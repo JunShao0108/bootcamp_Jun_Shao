{
 "cells": [
  {
   "cell_type": "code",
   "execution_count": null,
   "id": "e11e5fc9",
   "metadata": {},
   "outputs": [],
   "source": [
    "# Stage 13 Homework Starter — Productization\n",
    "\n",
    "## Objective\n",
    "Deploy your trained model as a reusable, handoff-ready API or dashboard and finalize your project for reproducibility and clarity."
   ]
  },
  {
   "cell_type": "code",
   "execution_count": 1,
   "id": "c22f0d82",
   "metadata": {},
   "outputs": [],
   "source": [
    "import pandas as pd\n",
    "import numpy as np\n",
    "import matplotlib.pyplot as plt\n",
    "import seaborn as sns\n",
    "from pathlib import Path\n",
    "import joblib\n",
    "import os\n",
    "from dotenv import load_dotenv\n",
    "from utils import fill_missing_values, scale_numeric_features, encode_categorical_features, train_model, save_model\n",
    "from flask import Flask, jsonify, request\n",
    "import io\n",
    "import base64\n",
    "import threading\n",
    "import requests\n",
    "from IPython.display import display, HTML\n",
    "\n",
    "# Load environment variables\n",
    "load_dotenv()\n",
    "DATA_DIR_PROCESSED = os.getenv('DATA_DIR_PROCESSED')\n",
    "MODEL_DIR = os.getenv('MODEL_DIR')\n",
    "\n",
    "# Set plot style\n",
    "sns.set(style='whitegrid')\n",
    "plt.rcParams['figure.dpi'] = 120\n",
    "np.random.seed(101)\n",
    "\n",
    "# Define export directory\n",
    "img_dir = Path('/Users/junshao/bootcamp_Jun_Shao/homework/hw13/deliverables/images')\n",
    "img_dir.mkdir(parents=True, exist_ok=True)\n",
    "\n",
    "def savefig(name):\n",
    "    plt.tight_layout()\n",
    "    plt.savefig(img_dir / name, dpi=300)\n",
    "    print(f'Saved {name}')"
   ]
  },
  {
   "cell_type": "code",
   "execution_count": null,
   "id": "03019dbb",
   "metadata": {},
   "outputs": [],
   "source": [
    "## Steps\n",
    "1. Create a mock, very basic analysis in a notebook.\n",
    "2. Clean your notebook by removing exploratory cells and documenting your code.\n",
    "3. Move reusable functions into `/notebooks/`.\n",
    "4. Load your trained model from Stage 12 or earlier stages.\n",
    "5. Pickle/save the model and test reload.\n",
    "6. Implement **either**:\n",
    "   - Flask API with `/predict` endpoint and optional parameters\n",
    "   - Streamlit or Dash dashboard for user interaction\n",
    "7. Include:\n",
    "   - Error handling for invalid inputs\n",
    "   - `requirements.txt` for reproducibility\n",
    "   - Documentation in `README.md`\n",
    "8. Test your deployment locally and provide evidence.\n",
    "9. Organize project folders and finalize notebooks for handoff."
   ]
  },
  {
   "cell_type": "code",
   "execution_count": 2,
   "id": "a6651f0d",
   "metadata": {},
   "outputs": [
    {
     "name": "stdout",
     "output_type": "stream",
     "text": [
      "         SalePrice  LotFrontage      LotArea  OverallQual  OverallCond  \\\n",
      "count  1460.000000  1460.000000  1460.000000  1460.000000  1460.000000   \n",
      "mean      0.202779    69.863699     0.043080     0.566591     5.575342   \n",
      "std       0.110321    22.027677     0.046653     0.153666     1.112799   \n",
      "min       0.000000    21.000000     0.000000     0.000000     1.000000   \n",
      "25%       0.132030    60.000000     0.029229     0.444444     5.000000   \n",
      "50%       0.177892    69.000000     0.038227     0.555556     5.000000   \n",
      "75%       0.248715    79.000000     0.048150     0.666667     6.000000   \n",
      "max       1.000000   313.000000     1.000000     1.000000     9.000000   \n",
      "\n",
      "        MasVnrArea   BsmtFinSF1   BsmtFinSF2    BsmtUnfSF  TotalBsmtSF  ...  \\\n",
      "count  1460.000000  1460.000000  1460.000000  1460.000000  1460.000000  ...   \n",
      "mean    103.117123   443.639726    46.549315   567.240411  1057.429452  ...   \n",
      "std     180.731373   456.098091   161.319273   441.866955   438.705324  ...   \n",
      "min       0.000000     0.000000     0.000000     0.000000     0.000000  ...   \n",
      "25%       0.000000     0.000000     0.000000   223.000000   795.750000  ...   \n",
      "50%       0.000000   383.500000     0.000000   477.500000   991.500000  ...   \n",
      "75%     164.250000   712.250000     0.000000   808.000000  1298.250000  ...   \n",
      "max    1600.000000  5644.000000  1474.000000  2336.000000  6110.000000  ...   \n",
      "\n",
      "       SaleType_ConLI  SaleType_ConLw  SaleType_New  SaleType_Oth  \\\n",
      "count     1460.000000     1460.000000   1460.000000   1460.000000   \n",
      "mean         0.003425        0.003425      0.083562      0.002055   \n",
      "std          0.058440        0.058440      0.276824      0.045299   \n",
      "min          0.000000        0.000000      0.000000      0.000000   \n",
      "25%          0.000000        0.000000      0.000000      0.000000   \n",
      "50%          0.000000        0.000000      0.000000      0.000000   \n",
      "75%          0.000000        0.000000      0.000000      0.000000   \n",
      "max          1.000000        1.000000      1.000000      1.000000   \n",
      "\n",
      "       SaleType_WD  SaleCondition_AdjLand  SaleCondition_Alloca  \\\n",
      "count  1460.000000            1460.000000           1460.000000   \n",
      "mean      0.867808               0.002740              0.008219   \n",
      "std       0.338815               0.052289              0.090317   \n",
      "min       0.000000               0.000000              0.000000   \n",
      "25%       1.000000               0.000000              0.000000   \n",
      "50%       1.000000               0.000000              0.000000   \n",
      "75%       1.000000               0.000000              0.000000   \n",
      "max       1.000000               1.000000              1.000000   \n",
      "\n",
      "       SaleCondition_Family  SaleCondition_Normal  SaleCondition_Partial  \n",
      "count           1460.000000           1460.000000            1460.000000  \n",
      "mean               0.013699              0.820548               0.085616  \n",
      "std                0.116277              0.383862               0.279893  \n",
      "min                0.000000              0.000000               0.000000  \n",
      "25%                0.000000              1.000000               0.000000  \n",
      "50%                0.000000              1.000000               0.000000  \n",
      "75%                0.000000              1.000000               0.000000  \n",
      "max                1.000000              1.000000               1.000000  \n",
      "\n",
      "[8 rows x 112 columns]\n",
      "SalePrice            1.000000\n",
      "OverallQual          0.790982\n",
      "GrLivArea            0.708624\n",
      "KitchenQual          0.659600\n",
      "GarageCars           0.640409\n",
      "                       ...   \n",
      "MSSubClass_30       -0.238640\n",
      "SaleType_WD         -0.242598\n",
      "MSZoning_RM         -0.288065\n",
      "Foundation_CBlock   -0.343263\n",
      "GarageType_Detchd   -0.354141\n",
      "Name: SalePrice, Length: 112, dtype: float64\n",
      "Basic analysis complete.\n"
     ]
    }
   ],
   "source": [
    "# Basic analysis step 1: Load data\n",
    "data_path = '/Users/junshao/bootcamp_Jun_Shao/homework/hw13/data/processed/updated_encoded_train.csv'\n",
    "df = pd.read_csv(data_path)\n",
    "\n",
    "# Basic analysis step 2: Summary statistics\n",
    "print(df.describe())\n",
    "\n",
    "# Basic analysis step 3: Correlation matrix\n",
    "corr = df.corr()\n",
    "print(corr['SalePrice'].sort_values(ascending=False))\n",
    "\n",
    "print(\"Basic analysis complete.\")"
   ]
  },
  {
   "cell_type": "code",
   "execution_count": null,
   "id": "b1b7a1a0",
   "metadata": {},
   "outputs": [],
   "source": [
    "## 2. Notebook Cleanup\n",
    "Remove exploratory cells and document your code."
   ]
  },
  {
   "cell_type": "code",
   "execution_count": 4,
   "id": "f482c12b",
   "metadata": {},
   "outputs": [
    {
     "name": "stdout",
     "output_type": "stream",
     "text": [
      "Notebook cleaned and ready for handoff.\n"
     ]
    }
   ],
   "source": [
    "# Remove exploratory cells (done manually)\n",
    "# Document your code clearly (added comments)\n",
    "# Example placeholder for cleaned analysis\n",
    "print(\"Notebook cleaned and ready for handoff.\")"
   ]
  },
  {
   "cell_type": "code",
   "execution_count": 5,
   "id": "b01bd977",
   "metadata": {},
   "outputs": [
    {
     "ename": "SyntaxError",
     "evalue": "invalid syntax (4094172936.py, line 2)",
     "output_type": "error",
     "traceback": [
      "\u001b[0;36m  Cell \u001b[0;32mIn[5], line 2\u001b[0;36m\u001b[0m\n\u001b[0;31m    Create notebooks/utils.py and store functions there.\u001b[0m\n\u001b[0m           ^\u001b[0m\n\u001b[0;31mSyntaxError\u001b[0m\u001b[0;31m:\u001b[0m invalid syntax\n"
     ]
    }
   ],
   "source": [
    "## 3. Move reusable functions to /notebooks/\n",
    "Create notebooks/utils.py and store functions there."
   ]
  },
  {
   "cell_type": "code",
   "execution_count": 6,
   "id": "375dc96b",
   "metadata": {},
   "outputs": [
    {
     "name": "stdout",
     "output_type": "stream",
     "text": [
      "Reusable functions moved to notebooks/utils.py.\n"
     ]
    }
   ],
   "source": [
    "# Reusable functions moved to notebooks/utils.py (done)\n",
    "# Example placeholder\n",
    "print(\"Reusable functions moved to notebooks/utils.py.\")"
   ]
  },
  {
   "cell_type": "code",
   "execution_count": null,
   "id": "354d572c",
   "metadata": {},
   "outputs": [],
   "source": [
    "## 4. Folder Structure Reminder\n",
    "\n",
    "Ensure your project uses a clean folder structure:"
   ]
  },
  {
   "cell_type": "code",
   "execution_count": 3,
   "id": "0ba6dbe7",
   "metadata": {},
   "outputs": [
    {
     "name": "stdout",
     "output_type": "stream",
     "text": [
      "R²: 0.72\n",
      "RMSE: 0.063\n",
      "Model saved to /Users/junshao/bootcamp_Jun_Shao/homework/hw13/model/linear_model.pkl\n",
      "Test prediction: 0.2503338202127855\n",
      "Model saved and reloaded successfully.\n"
     ]
    }
   ],
   "source": [
    "# Train model\n",
    "def get_features(df):\n",
    "    \"\"\"\n",
    "    Returns consistent feature list for prediction.\n",
    "    \n",
    "    Args:\n",
    "        df (pd.DataFrame): Preprocessed DataFrame.\n",
    "        \n",
    "    Returns:\n",
    "        list: Feature names.\n",
    "    \"\"\"\n",
    "    features = ['LotFrontage', 'LotArea', 'OverallQual']\n",
    "    df['LotArea_squared'] = df['LotArea'] ** 2\n",
    "    features.append('LotArea_squared')\n",
    "    features.extend([col for col in df.columns if 'Neighborhood_' in col or 'MSSubClass_' in col or 'MSZoning_' in col])\n",
    "    return features\n",
    "\n",
    "\n",
    "features = get_features(df)\n",
    "X = df[features]\n",
    "y = df['SalePrice']\n",
    "model = train_model(df)\n",
    "\n",
    "# Pickle model\n",
    "model_path = '/Users/junshao/bootcamp_Jun_Shao/homework/hw13/model/linear_model.pkl'\n",
    "save_model(model, model_path)\n",
    "\n",
    "# Test reload\n",
    "loaded_model = joblib.load(model_path)\n",
    "# Use DataFrame with matching features for test\n",
    "test_data = pd.DataFrame([df.iloc[0][features].values], columns=features)\n",
    "test_pred = loaded_model.predict(test_data)\n",
    "print(f\"Test prediction: {test_pred[0]}\")\n",
    "print(\"Model saved and reloaded successfully.\")\n"
   ]
  },
  {
   "cell_type": "code",
   "execution_count": null,
   "id": "73993270",
   "metadata": {},
   "outputs": [],
   "source": [
    "## 6. Flask API Demonstration"
   ]
  },
  {
   "cell_type": "code",
   "execution_count": 5,
   "id": "e7d176f3",
   "metadata": {},
   "outputs": [
    {
     "name": "stdout",
     "output_type": "stream",
     "text": [
      "Model loaded with 49 features\n",
      "Expected number of features: 49\n",
      " * Serving Flask app '__main__'\n",
      " * Debug mode: off\n"
     ]
    },
    {
     "name": "stderr",
     "output_type": "stream",
     "text": [
      "WARNING: This is a development server. Do not use it in a production deployment. Use a production WSGI server instead.\n",
      " * Running on http://127.0.0.1:5001\n",
      "Press CTRL+C to quit\n"
     ]
    }
   ],
   "source": [
    "from flask import Flask, jsonify, request\n",
    "import joblib\n",
    "import numpy as np\n",
    "import matplotlib.pyplot as plt\n",
    "import io\n",
    "import base64\n",
    "import threading\n",
    "import os\n",
    "from dotenv import load_dotenv\n",
    "\n",
    "# Load environment variables\n",
    "load_dotenv()\n",
    "MODEL_DIR = os.getenv('MODEL_DIR', '/Users/junshao/bootcamp_Jun_Shao/homework/hw13/model')  # Default path\n",
    "\n",
    "app = Flask(__name__)\n",
    "\n",
    "# Load pickled model once at startup\n",
    "try:\n",
    "    model = joblib.load(os.path.join(MODEL_DIR, 'linear_model.pkl'))\n",
    "    print(f\"Model loaded with {model.n_features_in_} features\")\n",
    "except FileNotFoundError:\n",
    "    print(f\"Error: Model file not found at {os.path.join(MODEL_DIR, 'linear_model.pkl')}\")\n",
    "    exit(1)\n",
    "except Exception as e:\n",
    "    print(f\"Error loading model: {str(e)}\")\n",
    "    exit(1)\n",
    "\n",
    "# Validate model features\n",
    "n_features = model.n_features_in_\n",
    "print(f\"Expected number of features: {n_features}\")\n",
    "\n",
    "@app.route('/predict', methods=['POST'])\n",
    "def predict():\n",
    "    \"\"\"\n",
    "    POST /predict with JSON features.\n",
    "    Returns a predicted SalePrice based on input features.\n",
    "    \n",
    "    Request JSON: {'features': [float, ...]} (length must match model.n_features_in_)\n",
    "    Response: {'prediction': float} or {'error': str, 'status': int}\n",
    "    \"\"\"\n",
    "    try:\n",
    "        data = request.get_json(force=True)\n",
    "        features = data.get('features')\n",
    "        if features is None:\n",
    "            return jsonify({'error': 'No features provided', 'status': 400}), 400\n",
    "        if not isinstance(features, list) or len(features) != n_features:\n",
    "            return jsonify({'error': f'Invalid feature array length, expected {n_features}', 'status': 400}), 400\n",
    "        features = np.array(features, dtype=float).reshape(1, -1)\n",
    "        pred = model.predict(features)[0]\n",
    "        return jsonify({'prediction': float(pred)})\n",
    "    except ValueError as e:\n",
    "        return jsonify({'error': f'Invalid feature values: {str(e)}', 'status': 400}), 400\n",
    "    except Exception as e:\n",
    "        return jsonify({'error': f'Prediction failed: {str(e)}', 'status': 500}), 500\n",
    "\n",
    "@app.route('/predict/<float:input1>', methods=['GET'])\n",
    "def predict_one(input1):\n",
    "    \"\"\"\n",
    "    GET /predict/<input1> for single feature input.\n",
    "    Pads remaining features with zeros for prediction.\n",
    "    \n",
    "    Args:\n",
    "        input1 (float): First feature value.\n",
    "    Response: {'prediction': float} or {'error': str, 'status': int}\n",
    "    \"\"\"\n",
    "    try:\n",
    "        features = np.array([input1] + [0.0] * (n_features - 1), dtype=float).reshape(1, -1)\n",
    "        pred = model.predict(features)[0]\n",
    "        return jsonify({'prediction': float(pred)})\n",
    "    except Exception as e:\n",
    "        return jsonify({'error': f'Prediction failed: {str(e)}', 'status': 500}), 500\n",
    "\n",
    "@app.route('/predict/<float:input1>/<float:input2>', methods=['GET'])\n",
    "def predict_two(input1, input2):\n",
    "    \"\"\"\n",
    "    GET /predict/<input1>/<input2> for two features.\n",
    "    Pads remaining features with zeros for prediction.\n",
    "    \n",
    "    Args:\n",
    "        input1 (float): First feature value.\n",
    "        input2 (float): Second feature value.\n",
    "    Response: {'prediction': float} or {'error': str, 'status': int}\n",
    "    \"\"\"\n",
    "    try:\n",
    "        features = np.array([input1, input2] + [0.0] * (n_features - 2), dtype=float).reshape(1, -1)\n",
    "        pred = model.predict(features)[0]\n",
    "        return jsonify({'prediction': float(pred)})\n",
    "    except Exception as e:\n",
    "        return jsonify({'error': f'Prediction failed: {str(e)}', 'status': 500}), 500\n",
    "\n",
    "@app.route('/plot')\n",
    "def plot():\n",
    "    \"\"\"\n",
    "    GET /plot to return a simple chart.\n",
    "    Displays a sample R² trend based on model performance.\n",
    "    \n",
    "    Response: HTML with embedded PNG image.\n",
    "    \"\"\"\n",
    "    try:\n",
    "        fig, ax = plt.subplots()\n",
    "        ax.plot([0, 1, 2], [0.68, 0.714, 0.712])\n",
    "        ax.set_title('Sample R² Trend')\n",
    "        ax.set_xlabel('Scenario')\n",
    "        ax.set_ylabel('R²')\n",
    "        buf = io.BytesIO()\n",
    "        fig.savefig(buf, format='png')\n",
    "        buf.seek(0)\n",
    "        img_bytes = base64.b64encode(buf.read()).decode('utf-8')\n",
    "        return f'<img src=\"data:image/png;base64,{img_bytes}\"/>'\n",
    "    except Exception as e:\n",
    "        return jsonify({'error': f'Plot generation failed: {str(e)}', 'status': 500}), 500\n",
    "\n",
    "def run_flask():\n",
    "    \"\"\"\n",
    "    Run the Flask application on port 5000.\n",
    "    \"\"\"\n",
    "    app.run(port=5001, debug=False)  # Disable debug mode for production-like behavior\n",
    "\n",
    "# Launch Flask in a separate thread\n",
    "if __name__ == '__main__':\n",
    "    threading.Thread(target=run_flask).start()"
   ]
  },
  {
   "cell_type": "code",
   "execution_count": null,
   "id": "a0f9b6d0",
   "metadata": {},
   "outputs": [],
   "source": [
    "## 7. Testing the Flask API from Notebook\n",
    "\n",
    "### TODO: Modify examples with your actual features"
   ]
  },
  {
   "cell_type": "code",
   "execution_count": 7,
   "id": "75ba11cf",
   "metadata": {},
   "outputs": [
    {
     "name": "stdout",
     "output_type": "stream",
     "text": [
      "Waiting for Flask server to start...\n"
     ]
    },
    {
     "name": "stderr",
     "output_type": "stream",
     "text": [
      "127.0.0.1 - - [27/Aug/2025 20:14:40] \"POST /predict HTTP/1.1\" 400 -\n",
      "/Users/junshao/anaconda3/lib/python3.11/site-packages/sklearn/base.py:464: UserWarning: X does not have valid feature names, but LinearRegression was fitted with feature names\n",
      "  warnings.warn(\n",
      "127.0.0.1 - - [27/Aug/2025 20:14:40] \"GET /predict/65.0 HTTP/1.1\" 200 -\n",
      "/Users/junshao/anaconda3/lib/python3.11/site-packages/sklearn/base.py:464: UserWarning: X does not have valid feature names, but LinearRegression was fitted with feature names\n",
      "  warnings.warn(\n",
      "127.0.0.1 - - [27/Aug/2025 20:14:40] \"GET /predict/65.0/0.033420 HTTP/1.1\" 200 -\n",
      "127.0.0.1 - - [27/Aug/2025 20:14:40] \"GET /plot HTTP/1.1\" 200 -\n"
     ]
    },
    {
     "name": "stdout",
     "output_type": "stream",
     "text": [
      "POST /predict: {'error': 'Invalid feature array length, expected 49', 'status': 400}\n",
      "GET /predict/<input1>: {'prediction': -0.03261934929851999}\n",
      "GET /predict/<input1>/<input2>: {'prediction': -0.005028580268606475}\n"
     ]
    },
    {
     "data": {
      "text/html": [
       "<img src=\"data:image/png;base64,iVBORw0KGgoAAAANSUhEUgAAAwAAAAJACAYAAAA6rgFWAAAAOXRFWHRTb2Z0d2FyZQBNYXRwbG90bGliIHZlcnNpb24zLjcuMiwgaHR0cHM6Ly9tYXRwbG90bGliLm9yZy8pXeV/AAAACXBIWXMAABJ0AAASdAHeZh94AACFk0lEQVR4nOzdd3gVZdrH8W96JyGU0EFKEEJJ6AqICFIEFJSmoYgRRNcGroC7vqsuuqxtLSCKIr2DCAqooKi4CuhCQCCBRKQEAwQI6T2Z949jDhwSIKSdk3N+n+vikszMM3PP42Ey95n7ecbJMAwDERERERFxCM7WDkBERERERCqPEgAREREREQeiBEBERERExIEoARARERERcSBKAEREREREHIgSABERERERB6IEQERERETEgSgBEBERERFxIEoAREREREQciBIAEREREREHogRARERERMSBKAEQEREREXEgSgBERERERByIEgAREREREQeiBEBERERExIEoARARERERcSBKAEREREREHIgSABERERERB6IEQERERETEgSgBEBERERFxIEoAREREREQciBIAEREREREHogRARERERMSBKAEQEREREXEgSgBERERERByIEgAREREREQeiBEBERERExIEoARARERERcSBKAEREREREHIgSABERERERB6IEQERERETEgSgBEBERERFxIEoAREREREQciBIAEREREREHogRARERERMSBKAEQEREREXEgSgBERERERByIEgAREREREQeiBEBERERExIEoARARERERcSBKAEREREREHIgSABERERERB6IEQERERETEgbhaOwAREWv65ptvWLNmDb/++iupqakEBATQtm1bhg8fTp8+fawdXonNnj2bOXPm8N5779G3b99y22/Lli2LXe7i4oKvry9NmjRh8ODBhIeH4+LiAkBOTg4vv/wy27ZtIz09nUaNGvH0009fNa477riDP/74o0TxPP744zzxxBOlO5kKEB0dzdChQxk2bBj//ve/rR2OiEiJKAEQEYc1c+ZMli1bRv369enTpw/Vq1fn7NmzfP/992zfvp2RI0cyc+ZMa4dpdX5+fowfP95iWW5uLnFxcXz99dfs37+fo0eP8tJLLwGwYMECPv30U1auXEmzZs146aWXmDJlCj///DNeXl5F9j9u3DhSU1PNP6ekpLBkyRLq16/PsGHDLLbt0qVLBZyhiIhjUQIgIg5p9+7dLFu2jP79+/Of//wHV9dLl8PU1FTGjRvHmjVr6NWrV7l+o14VVatW7arfusfExDBixAhWr17N+PHjadq0KZMnT2bMmDH4+voC4O/vD4CTk1Ox+3jwwQctfj516pQ5AbClb/tFROyFxgCIiEP67rvvAAgPD7e4+QfTN97PPPMMANu2bavs0KqU4OBgBgwYgGEY7Nq1y7zc19eXvLw8XnvtNRYtWsQTTzyBp6enFSMVEZFCSgBExCHl5uYCpm+wi9OpUyfefvvtIt9OJyYm8uqrrzJw4EDat29P+/btGTRoEB988AF5eXnm7Xbv3k3Lli3ZuHEja9asYeDAgbRt25YBAwawceNGwDT+4N5776V9+/b079+f5cuXWxxr9uzZtGzZkiNHjvDyyy/TrVs3OnbsyIMPPsiePXtKdJ4nTpzgr3/9K7feeitt2rRh4MCBzJs3z3z+5SEwMBAw1f4XOnv2LGPGjGHFihX861//YtKkSeV2vBkzZtCyZUt+/fVX7rrrLtq2bcvo0aMxDAMo+TmPHTuWO+64gzNnzvDMM8/QtWtX2rdvT3h4OLt37y5y3MOHD/Poo4/SpUsXOnfuzHPPPUdSUlK5nZeISGVRCZCIOKTu3buzdOlSXn31VY4fP87gwYNp166deSCrp6cnAwcOtGiTmprKyJEjOX36NHfccQd9+/YlMTGRbdu28dZbb5GcnMz06dMt2ixcuJATJ04waNAgunXrxqeffsq0adM4fPgwS5cupX///nTq1InPPvuMf/7znwQFBRUpOXruueeIi4tjyJAhpKen8+WXXzJ+/Hg++OADevTocdVzPHToEOPHjycrK4t+/fpRr149/ve///Gf//yHX375hXnz5pnPt7QKCgr48ccfAbj55psBUwnPAw88gJeXF+vWraN58+ZlOsbVPProo7Rt25bu3bvj7e2Nk5PTDZ9zenq6OdahQ4dy/vx5tmzZQkREBFu2bKFRo0aAabBveHg4OTk59O/fn2rVqvHNN9/www8/VMi5iYhUJCUAIuKQevfuzf3338/KlStZtmwZy5Ytw9fXl44dO3LrrbcyYMAA6tSpY9Fm5cqVxMXF8fLLLzNixAjz8scff5x+/frx+eefF0kAYmJiWLNmDW3atAFMN8n/+Mc/WLBgAfPmzeP2228HoG/fvowdO5ZNmzYVSQBOnDjBp59+ar4ZfeCBB3jggQd48cUX+eqrr4q9iTcMgxkzZpCTk8OqVavMxweYNWsWixYtYtWqVYSHh5eq/7Kzszl58iTz5s3jyJEjdOrUiW7dugHw4osvcvbsWQAGDRpkbrNhwwZatWpVquMVp0OHDsyePdv8c2nOOSkpiY4dO/LOO+/g5uYGQIsWLXjrrbf49NNPeeqppwB45ZVXyMrK4uOPP+aWW24B4IknnmDs2LGcO3eu3M5JRKQyqARIRBzWiy++yLx58+jZsydubm6kpaXx/fffM2vWLPr27cubb75JQUGBefsePXrw0ksvMXToUIv91K1bl4YNG5KYmFjkGB07drS4Ee3QoQMAN910k/nmH6B9+/YAxU6HOWbMGPPNf+G2d911F3Fxcezbt6/Yc9u/fz8xMTEMHz7c4vgATz31FG5ubqxfv774jrnCH3/8QcuWLS3+tGvXjsGDB5sTlstvxOfPn8+RI0eK/CnPm3+A/v37W/xc2nN+6KGHzDf/AL169QLg+PHjgKmc6ZdffqFnz57mm38wlT795S9/Ka/TERGpNHoCICIO7fbbb+f2228nPT2d//3vf+zcuZPt27dz4sQJPvzwQwoKCnj22WcBaN26Na1btyY9PZ39+/dz4sQJjh8/zoEDBzhx4gT5+flF9t+4cWOLnwunwWzQoIHFcg8PD8Cyjr5QcVNftmvXjs8++4zDhw/TsWPHIusPHToEwMmTJy1uzgv5+Phw5MgRDMO46uw8hS6fBjQvL4/IyEh2795Nw4YNmTNnjrn0p7LVr1/f4ufSnnOTJk0stiucvajw/8Xhw4cBiiQVAGFhYaU/ARERK1ECICKC6eawV69e9OrVi+nTp7Nu3Tr+7//+j2XLlvH444/j5eVFdnY2//nPf1i9ejWZmZkABAUF0blzZ6pXr15sKUhx894DuLu7lzi2oKCgIstq1qwJQFpaWrFtUlJSAPjhhx+uWaeenp5uvuG9muKmAV22bBkzZ87kySefZPny5dSqVeua+6gIV84qVNpzvvL/RWFyUDiouHC/Pj4+RfZVOMWpiEhVogRARBxOWloa9957LzfddBPz5s0rst7JyYkRI0bw5Zdf8t///pczZ85w00038e9//5sVK1bQv39/wsPDadmyJQEBAQAMHDiwwmrBs7KyiiwrfHFW9erVi23j7e0NmGrXhw8fXu4xjRkzhoMHD5rr5JcuXVrmAcVlVVHnXK1aNQCLl5UVysjIKLfjiIhUFo0BEBGH4+vrS2pqKj/99BPnz5+/5rbOzs7mb7c3bdpEjRo1eOedd+jatav55j8rK4v4+Hjg0rfG5enAgQNFlkVGRgKmUqDitGzZEoCDBw8WWZebm8u///1vli5dWqa4nn/+eerWrcuePXtYsGBBmfZVHirqnFu3bo2TkxN79+4tsq64Y4mI2DolACLikAqndHzyySdJSEgosv6bb77hp59+4s477zSXi3h4eJCdnW0uCQHIz883zxADlOv8+oU+/vhjixj37t3L559/TkhIyFXr7zt37kyDBg1Yt26dOVko9OGHH7Jw4UJzzXxp+fr68sILLwDw3nvvERcXV6b9lVVFnXOtWrXo2bMnu3bt4quvvjIvT0tLY86cOWWOW0SksqkESEQc0qOPPkpMTAxfffUV/fr1o0ePHjRp0oS8vDz279/P3r17adq0KS+++KK5zZAhQ1iwYAH33Xcfffv2JS8vj//+978cO3aMwMBAEhMTSUpKonbt2uUaa2pqKsOGDePOO+8kLS2Nr776Ck9PT2bOnHnVNi4uLrz66qtMnDiRMWPG0KdPHxo2bMjBgwfZtWsXDRo0YOrUqWWOrXfv3vTr14+tW7fy4osv8vHHH5d5n6VVkef8j3/8g9GjR/P000/Tt29fgoKC+Pbbb3F21vdoIlL16MolIg7JxcWFd999lzlz5tCzZ08OHDjAkiVLWLt2LdnZ2TzzzDN8+umn5rfcAkyZMoUnnngCZ2dnVqxYwddff039+vX5+OOPmTx5MgDff/99ucf6j3/8g759+7J582Z++OEHevfuzerVqwkJCblmu06dOrF27VoGDBjA//73P5YsWUJ8fDxjx45l9erV5ZaoPP/88/j6+vLf//6Xzz77rFz2WVoVdc4NGzZk9erV3HXXXfzyyy988skntG7dmvfff7+cz0BEpOI5GRVRsCoiImU2e/Zs5syZw3vvvVfk5WAiIiKlpScAIiIiIiIORAmAiIiIiIgDUQIgIiIiIuJANAZARERERMSB6AmAiIiIiIgDUQIgIiIiIuJAlACIiIiIiDgQvQnYSgoKCsjLywPA2dkZJycnK0ckIiIiUnUYhkFBQQEArq6uejP3DVACYCV5eXkcOHDA2mGIiIiIVHlt27bF3d3d2mFUGUqVREREREQciE0+AYiPj+f1119n586d5Obm0rlzZ5577jkaN2581TZjx47l559/vur6Ll26sHTp0iLLc3Nzuffee+nVqxd//etfi6zv0aMH586dK7K8T58+zJ07t4RnVNTlj6natm2Li4tLqfdVEtHR0QC0atWqQo9TVag/LlFfWFJ/WFJ/XKK+sKT+sKT+uKSy+iI/P99cTaHynxtjcwlAUlIS48aNIy0tjXHjxuHh4cGCBQsIDw9n48aN1KhRo9h2kydPZvjw4UWWb9q0iR07dtCnT58i6woKCpgxYwYxMTH06tWr2FjOnTvHPffcQ/fu3S3W1a1bt5RnaHJ5zb+Li0uFJwCFx6vo41QV6o9L1BeW1B+W1B+XqC8sqT8sqT8usUZfaCzljbG5BGDRokWcOnWKdevW0aZNGwB69uzJ0KFDmT9/PtOnTy+23ZU36ADHjh3jhRdeoHfv3jz44IMW6y5evMi0adPYsWPHVWOJjY0FYODAgfTu3buUZyQiIiIiYjts7nnJpk2bCA0NNd/8AwQHB9OtWzc2bdp0Q/t66aWXAHjhhRcslu/du5f+/fuzc+dOHn744au2j4mJAaBZs2Y3dFwREREREVtlUwlAcnIycXFxFjf/hUJCQkhISCAhIaFE+9qxY4f5Bv/Kcp0TJ07QqlUr1q1bx/3333/VfcTGxuLh4UGDBg0wDIOMjIwbOyERERERERtjUwnA2bNnAQgKCiqyrnbt2gCcPn26RPuaO3cu1apVY8KECUXWDRo0iMWLF3PzzTdfcx+xsbH4+/vz7LPPEhYWRlhYGP369WPz5s0likFERERExNbY1BiA9PR0ALy8vIqs8/T0BCjRt/BRUVFERkby8MMP4+PjU2R9SeeJ/e2330hKSsLd3Z033niDixcvsmTJEqZOnUpmZmaxg45LIzo6usIHr2RnZwNw6NChCj1OVaH+uER9YUn9YUn9cYn6wpL6w5L645LK6gvDMCp0//bMphKAwre5XetmuCTTPK1evRonJyfGjBlT6ljy8vKYNGkSgYGBDBs2zLx88ODBDBo0iNdff527775bL50QERERkSrFphKAwm/rMzMzi6zLysqy2OZatm/fTmhoaJmm6nR1dSUiIqLIci8vL4YNG8acOXM4fPgw7dq1K/UxCrVq1arCp8oqzMJDQkIq9DhVhfrjEvWFJfWHJfXHJeoLS+oPS+qPSyqrL/Lz89m3b1+FHsNe2dQYgPr16wMU++KtwsG/xY0PuFx0dDQJCQn069ev/AP8U2BgIFCyciQREREREVtiUwmAn58fjRo1KrZm7NChQ9SpU4datWpdcx979uwB4JZbbilTLAcOHGDAgAEsX768yLpjx44B0LBhwzIdQ0RERESkstlUAgAwYMAA9uzZQ1RUlHlZTEwMu3btYvDgwddtHxUVhbu7O82bNy9THDfddBPx8fGsXLmSnJwc8/JTp07xySef0KFDB/MTCxERERGRqsKmxgAAREREsGHDBiIiInjooYdwdnZm4cKFBAUFmWvyMzIy2LZtGzVr1izyBuATJ05Qu3Zt3NzcyhSHr68v06ZNY+bMmYwePZphw4aRnJzMsmXLcHV1Nb9kTERERESkKrG5BCAgIIAVK1Ywa9Ys5s6di7u7O126dGHatGnm2vvExESmTZtGly5diiQAFy9exM/Pr1xiGTNmDL6+vixatIhXX30Vb29vunbtypQpU2jatGm5HENEREREpDLZXAIAptr6uXPnXnV9gwYNOHLkSLHrtmzZckPHuta+AIYOHcrQoUNvaJ8iIiIiIrbK5sYAiIiIiIhIxVECICIiIiLiQJQAiIiIiIg4EJscAyAiItb34/54Zq/5HWcnJ2pWTyDA1wN/Pw8CfP/84+eB/5//DfD1wN/XHTfXin2ruYiIlJ0SABERKSLhYgbvrokkI6sAgNTMlBK18/FyI8DXnQA/T/x93YskC/6+HlT/8+/enq44OTlV5GmIiEgxlACIiIgFwzCYvWYfGVl5ALS7yRcPLx+SUrNJTssmKTWbnLyCYtumZ+aSnpnLH+fSr3scN1dniycIhU8RLj1RuLSumo87Li6qWhURKQ9KAERExMJXu06wL+YcAJ1a+DG8ZxAhISHm9YZhkJmdR1JaNsmpOSSlZZv+/mdykPTnf5P/XJaakVvscXLzCjiflMn5pMzrxuTkBH7eRZMD01MGzz+fOlxa7umuX28iIlejK6SIiJidTcxgwecHAajp78ngrjWLbOPk5IS3pxvenm7UK7q6iNy8AlLSC5OCHJLSskj6M3FITiuaMOTlG0X2YRiQkp5DSnoOJ0m97jE93V0sny4UJgcWJUnu+Pt64OftjrOzSpFExHEoARAREQAKCgzeXR1JZnY+AE+MDMMj/1yZ9+vm6kwNfy9q+Htdd1vDMEjPzOVi6qXkIDk1m6S0nGKfMmRm5xW7n6ycfLISMzibmHHdYzo7O+Hv415kUPOVZUhJabn4eunXpohUfbqSiYgIAF/uOs6vv50HoH+3xnS4uTaHDpU9AbgRTk5O+Hq74+vtTsMgv+tun52b/2eCcEVyYC5PyjI9dUjNJiU9m4KiDxcoKDC4mJrNxdTsEsXo43nCIlnwv3JWpMuSBg10FhFbpARAREQ4cyGdhZ8fAqBWdS8eGhJynRa2wcPNhdqB3tQO9L7utvkFBmkZOUXGKSRdljiYfjZtk5ObX+x+0rPySM/Ku7GBzn+WGxVbkqSBziJSyZQAiIg4uIICg3dWR5KVY7rhfXJkKN6eblaOqvy5ODuZpyJtfJ1tDcMgKyffnCRcTM0mOuYYaVn5eHj5Fxn4XB4DncFyoLN5kPPlJUmX/d3TQ7/CRaR0dPUQEXFwW346xsGjFwAYeEsTQoNrWzki63NycsLLwxUvD1fq1vQBoJpzIoDFjEiF8vIL/hzEnGP5dOHykqTLlhc30BkgNSOH1Iwc4s5ef6Czh7tLsS9lM79/4bKnDBroLCKXUwIgIuLA4s+nsWhzFAC1A715cHBrK0dUNbm63OBA56w8klIvjU8oriSp8O+F72O4UnZOPmdvcKCz5ZubC/9++YvbPAnw0xudReydEgAREQdVUGDwzqpIsv8s/XlqlH2W/tgaJycnfL3c8PVyo0EJHrbk5OYXeYJw8c8pVa98ypCSVoKBzqevf0xvT9cisyBdOUvSueQcfD1dMAxDA51FqhglACIiDurz//5O1DFTWcvg7jfRrnktK0ckxXF3c6F2dW9qV7/+QOeCAoPUjOKnTC182pCcls3Fwjc6X2Wgc0ZWHhlZecSfv/5AZ9dVJ0yDnC97slD9z2ThygSimo87rhroLGJ1SgBERBzQH+fSWPJn6U+dGt6MH6TSH3vgfNlA55LI+vONzsWOW0i1HNOQmpFT7D7y8gs4n5zF+eSsEh3TNNDZVG5UZLzCFU8bvDTQWaRC6F+WiIiDyf+z9CcnrwCAp0aFaUYZB+Xp4UodD1fq1PC57rZ5+QWkpOeYS5CiDv9OamYeXr7Vi0kgcsjLLyh2P5cGOqdd95gehW909r0sYbhKSZKvtzsuGugsUiK64ouIOJjPdhwl+rip9Ofunk1p06ymlSOSqsDVxZnAap4EVvPkJsAjz/SSuOJmRSoc6Hz5E4WiTxcu/Tf9GgOdExIzSCjJQGcnqOZ72ZSpl82KVFxJkrubBjqL41ICICLiQOLOprL0i2gA6tb0Yexdrawckdijywc616/le93tc/PySUrNKf7FbFf8PTk9h4JiRjoXGJi2LeEbnb09XYu8jM38tMHP8mmDj5ebBjqLXVECICLiIApLf3LzCnBygqdHh+Hprl8DYn1uri7Uqu5FrerXn0a1cKBzYbKQnJrDxbSsorMi/fl0ofAFd1cqHOh8uiQDnV2cLnuiUPQpQ4CvBxcuZOPr5UJefoEGOovN05VfRMRBbPjuN46cvAjAPbc1o/VNNawckciNu3ygc6MSbH/5QOfkP8cnJKVlWc6K9Od/UzNyMIqZRjUv3+BCchYXSjLQedVx/LzdLBKG6pe9xdlyliR3vDxc9XRBKp0SABERB3DyTArLvjwMQP1aPowZqNIfcQw3MtA5/8+BzsW9mC3pijc9J6VmX2Ogcy6pGbmcSrj+QGd3N5c/y448rlKSdCmR8PPRQGcpH0oARETsXH5+AW+tiiQvvwBnJ3j6/g54aACkSBEuLs5Ur+ZJ9Wqe193WMAwy/hzofDE1m4PRv5GWmY+3X+ClJw5pOSSlZpGUlkN6Zm6x+8nJzSfhYiYJFzOve0xnJ6jmc2lwc4CvJ/5+7pdKkvwulScF+Gmgs1ydEgARETv3ybe/8VtcEgDDbm/OzY0DrRuQiB1wcnLCx8sNHy836tXyhcwzAISE3Fzs9rl5+eayoyKzIpnLkwqfOlxjoPOf25eEl4frZU8TLg1uLq4kSQOdHYsSABERO3b8dAort5pKfxoG+fJA/+JvTkSkYrm5ulAzwIuaASUb6JyWmVv81KlXzIyUnJZNZnbxA50zs/PIzC75QOfCpwsBVw549rN8D4O/r4cGOldxSgBEROxUXn4Bb6/aS16+YSr9Gd1BJQEiVYCzsxPVfNyp5uNOwyC/626flZ1Hcrqp3Cg5Lcc8qPnyJwuFCUNK+tUHOiemZJGYUrI3Ovt6uRV5GVvh31MS06hXo2RvoxbrUAIgImKn1m2P5eipZADuu6MFwY2qWzkiEakInh6ueHq4EhTofd1t8/MLSMnIueyJQs4Vb3G2LFHKzSt+oHNaZi5pmVcf6OzsBPUb3kTT+v5lOjepGEoARETs0O9/JLNq6xEAGtXx4/5+La0ckYjYAhcXZ6r7eVLdr2QDnTMLp1G1SBIuPW24fF3aZQOdixnCIDZECYCIiJ3JzTOV/uQXGDg7OzFldAfcXFX6IyI3xsnJCW9PN7w93ahXsyRvdC4gJT2bPfui8PVy1bf/NkwJgIiInVn7TQzH4lMAGHFHC5o3DLBuQCLiENxcnanh70X9mtd/uiDWpSHcIiJ25LdTSaz5OgaAJnWrMepOlf6IiIglJQAiInYiNy+fd1ZFkl9g4OLsxNOjw3Bz1WVeREQs6TeDiIidWLUthuOnTaU/o/oG06xBgHUDEhERm6QEQETEDsTGXWTd9lgAmtbzZ0TfYCtHJCIitkoJgIhIFZebl89bKyMpKDBwdXHi6fvD9JZOERG5Kv2GEBGp4lZ8dYS4s6kAjL6zJTfV09R7IiJydUoARESqsCMnEln/ran0p3kDf+67o4WVIxIREVunBEBEpIrKyc3n7VWRFBjg6uLM06M7qPRHRESuS78pRESqqOVfHuZUQhoAD/RvSeO61awckYiIVAVKAEREqqDoY4l8+v1vALRoGMC9tze3ckQiIlJVKAEQEalisnLyeHvVXgwD3FydeXp0GC4q/RERkRLSbwwRkSpm2ReHiT+fDsCYATfTqI5Kf0REpOSUAIiIVCGHfr/AZz8cBaBl4+rc00ulPyIicmOUAIiIVBFZ2Xm8szoSwwD3wtIfZydrhyUiIlWMq7UDKE58fDyvv/46O3fuJDc3l86dO/Pcc8/RuHHjq7YZO3YsP//881XXd+nShaVLlxZZnpuby7333kuvXr3461//WmR9TEwMr7/+Ovv27cPZ2ZnbbruNGTNmUKNGjdKdnIhIKS35IprTf5b+jL2rFQ1q+1k5IhERqYpsLgFISkpi3LhxpKWlMW7cODw8PFiwYAHh4eFs3LjxqjfekydPZvjw4UWWb9q0iR07dtCnT58i6woKCpgxYwYxMTH06tWryPq4uDjGjh2Lr68vkydPJjMzkwULFnD48GHWrVuHh4dH2U9YRKQEDhw9z+c//A5AqyaBDOnZzMoRiYhIVWVzCcCiRYs4deoU69ato02bNgD07NmToUOHMn/+fKZPn15su+7duxdZduzYMV544QV69+7Ngw8+aLHu4sWLTJs2jR07dlw1lnfffZfs7Gw2btxInTp1AGjXrh0TJ05k3bp1hIeHl/IsRURKLjM7j3dWRQLg7uai0h8RESkTmxsDsGnTJkJDQ803/wDBwcF069aNTZs23dC+XnrpJQBeeOEFi+V79+6lf//+7Ny5k4cffrjYtrm5uXz11Vf06dPHfPMPcNttt9GkSRM+//zzG4pFRKS0Fm+O4mxiBgDj72pFvVq+Vo5IRESqMptKAJKTk4mLi7O4+S8UEhJCQkICCQkJJdrXjh07zDf4devWtVh34sQJWrVqxbp167j//vuLbR8bG0t2djZt27YtNpaoqCgKCgpKFIuISGntjz3H5h+PARDStAaDezS1ckQiIlLV2VQCcPbsWQCCgoKKrKtduzYAp0+fLtG+5s6dS7Vq1ZgwYUKRdYMGDWLx4sXcfPPN142l8LhXxpKdnU1iYmKJYhERKY2MrFzeXW0q/fFwd+GpUWE4q/RHRETKyKbGAKSnm2a38PLyKrLO09MTgIyMjOvuJyoqisjISB5++GF8fHyKrHd3dy9TLIWDfzMzM6+7n5KIjo7Gyalif6lnZ2cDcOjQoQo9TlWh/rhEfWHJlvrj0x8TSLhous4M6FCdxLPHSTxbuTHYUn9Ym/rCkvrDkvrjksrqC8MwKnT/9symngAUltRc62bY2fn6Ia9evRonJyfGjBlTobFU9E27iDiu2D8y2H0kBYCmdbzo2srfyhGJiIi9sKknAIXf1hf3zXpWVpbFNteyfft2QkNDi9T+l1cshZltSWIpiVatWuHi4lIu+7qawiw8JCSkQo9TVag/LlFfWLKF/sjIyuWN9d8C4OnuwnMPdadOjfK53twoW+gPW6G+sKT+sKT+uKSy+iI/P599+/ZV6DHslU09Aahfvz4A586dK7KucPBvceMDLhcdHU1CQgL9+vWr0Fi8vLzw99c3ciJS/j7+7BDnk0xfPjw0JMRqN/8iImKfbCoB8PPzo1GjRsXWjB06dIg6depQq1ata+5jz549ANxyyy1liqVp06Z4eXldNZbWrVuXqBxJRORG7Dl8lq27TwAQ2qIWA25pYt2ARETE7tjcHeyAAQPYs2cPUVFR5mUxMTHs2rWLwYMHX7d9VFQU7u7uNG/evExxuLu7c8cdd7B161bOnDljXr5jxw6OHz9eolhERG5EWmYus9fsA8DLw5UnRoZqrJGIiJQ7mxoDABAREcGGDRuIiIjgoYcewtnZmYULFxIUFERERARgmglo27Zt1KxZs8gbgE+cOEHt2rVxc3MrcyxPPvkk3333HeHh4YwfP57U1FQ+/vhjQkJCuPfee8u8fxGRy3288SAXkk3jnSLuDqF2oLeVIxIREXtkc08AAgICWLFiBWFhYcydO5cPP/yQsLAwlixZQmBgIACJiYlMmzaNDz74oEj7ixcv4ufnVy6xNGnShKVLl9KgQQPefPNNVqxYQf/+/Zk/f755WlIRkfLwS9QZvv7lJABhwbXo17WxlSMSERF7ZXNPAAAaNmzI3Llzr7q+QYMGHDlypNh1W7ZsuaFjXWtfYBrBvnjx4hvap4jIjUjLyGHO2n0AeHu68sTIMJX+iIhIhbG5JwAiIo7mww0HSEwxTS888Z421Kpe9AWEIiIi5UUJgIiIFe0+eJpv95wCoFOrIPp0bmTliERExN4pARARsZKU9BzeW7cfAB9PVx4f0V6lPyIiUuGUAIiIWMmHnx7gYqqp9GfSsLbU8Ffpj4iIVDwlACIiVvDTr/F8H2kq/enSug69Oza0ckQiIuIolACIiFSy5LRs3v/kVwB8vdz4i0p/RESkEikBEBGpZPM+PUBSmqn055FhbQmspveKiIhI5VECICJSif67/w9+2PcHAN3a1KFXhwZWjkhERByNEgARkUqSlHqp9MfP253Hhqv0R0REKp8SABGRSmAYBu+v309Keg4Aj97bjup+Kv0REZHKpwRARKQS/HdfPD/9ehqAW9vVpUdoPStHJCIijkoJgIhIBbuYksX7600v/Krm486j96r0R0RErEcJgIhIBTIMg/fW7Sc1IxeAR+9rR4Cfh5WjEhERR6YEQESkAn2/9xS7D50BoGdofXq0r2/liERExNEpARARqSCJKVnM+/QAAAG+HjwyrK2VIxIREVECICJSIQzD4L21+0nLNJX+PDa8Hf6+Kv0RERHrUwIgIlIBvt0Tx89RptKfXmENuKWtZv0RERHboARARKScXUjO5MM/S3+q+3kwSaU/IiJiQ5QAiIiUI8MwmL1mH+lZeQD8ZXh7qvm4WzkqERGRS5QAiIiUo29+OcmewwkA9O7YgK5t6lo5IhEREUtKAEREysm5i5l8tPEgAIHVPJg0VKU/IiJie5QAiIiUA1PpTyQZf5b+PD4iFF9vlf6IiIjtUQIgIlIOtu4+QWTMOQD6dm5E59Z1rByRiIhI8ZQAiIiUUUJiBh9/dgiAGv6eRNzTxsoRiYiIXJ0SABGRMjAMg3fXRJKZbSr9eWJkKL5eblaOSkRE5OqUAIiIlMGXO4+zP/Y8AP26NqbjzUFWjkhEROTalACIiJTSmQvpLPjcVPpTM8CLiLtDrByRiIjI9SkBEBEphYICg3dX7yMrJx+AJ0eG4u2p0h8REbF9SgBERErhi5+OceCoqfRnwC1NCGtZ28oRiYiIlIwSABGRG3T6fDoLN0cBULu6FxMGt7ZyRCIiIiWnBEBE5AYUFBi8szqS7MLSn1FhKv0REZEqRQmAiMgN2PTf3zn0+wUABnW/ifYtalk5IhERkRujBEBEpITiz6WxeEs0AEGB3owfpNIfERGpepQAiIiUQH6BwdurIsnJNZX+PDU6DC8PVytHJSIicuOUAIiIlMDnPxwl+ngiAEN6NqVts5pWjkhERKR0lACIiFxH3NlUlv5Z+lO3pg/jBrayckQiIiKlpwRAROQa8v+c9ScnrwAnJ3hqVBieKv0REZEqTAmAiMg1bPz+N46cuAjA3T2bEdK0hpUjEhERKRslACIiV3HyTArLvjwMQP1aPowZeLOVIxIRESk7JQAiIsXIzy/g7VWR5OYV4OwET4/ugKe7Sn9ERKTqUwIgIlKM9d/9RmxcEgBDezXn5iaB1g1IRESknOjrLBGRK5y5mM2Kr34HoEFtX8IHqPRHRETsh54AiIhcJr/AYO2OBPLyC0t/wnB3c7F2WCIiIuVGCYCIyGW++/Uif1zIBuDe3i1o2VilPyIiYl9ssgQoPj6e119/nZ07d5Kbm0vnzp157rnnaNy48VXbjB07lp9//vmq67t06cLSpUvNP3/zzTe89957/P777wQEBDBs2DAee+wx3NzcLNr16NGDc+fOFdlfnz59mDt3binOTkRs1bH4ZLbvM73tt1EdPx7o39LKEYmIiJQ/m0sAkpKSGDduHGlpaYwbNw4PDw8WLFhAeHg4GzdupEaN4ufgnjx5MsOHDy+yfNOmTezYsYM+ffqYl23bto0nnniCTp068eyzz3LkyBHef/99EhISeOWVVyxiOXfuHPfccw/du3e32G/dunXL6YxFxBbk5Rfw9spI8gswl/64uar0R0RE7I/NJQCLFi3i1KlTrFu3jjZt2gDQs2dPhg4dyvz585k+fXqx7a68QQc4duwYL7zwAr179+bBBx8EID8/n1mzZhESEsLChQvN3/hXq1aN+fPnM378eIKDgwGIjY0FYODAgfTu3bu8T1VEbMjar2P4PT4ZgF7tqtOiYXUrRyQiIlIxbG4MwKZNmwgNDTXf/AMEBwfTrVs3Nm3adEP7eumllwB44YUXzMsiIyP5448/GDVqlEW5z9ixYzEMg82bN5uXxcTEANCsWbNSnYuIVA1HTyWx+mvTv/c61d3pE6q6fxERsV82lQAkJycTFxdncfNfKCQkhISEBBISEkq0rx07drBz504efvhhi3KdgwcPAhQ5RlBQELVq1TKvB9MTAA8PDxo0aIBhGGRkZJTmtETEhuXmmV74lV9g4OLsxIietXF1cbJ2WCIiIhXGphKAs2fPAqab8SvVrl0bgNOnT5doX3PnzqVatWpMmDDhho4RHx9v/jk2NhZ/f3+effZZwsLCCAsLo1+/fhZPCUSkalu97QjHT6cAMLJvMPVrelo5IhERkYplU2MA0tPTAfDy8iqyztPT9Eu5JN/CR0VFERkZycMPP4yPj0+xxyjc3+U8PDxITEw0//zbb7+RlJSEu7s7b7zxBhcvXmTJkiVMnTqVzMzMYgcdl0Z0dDROThX7jWN2tmlaw0OHDlXocaoK9ccljtwXp85nsfabUwDUDXQnpG4e2dk5gGP2R3Ec+fNxJfWFJfWHJfXHJZXVF4ZhVOj+7ZlNJQAFBQUA17wZdna+/kOL1atX4+TkxJgxY274GIX7z8vLY9KkSQQGBjJs2DDz+sGDBzNo0CBef/117r77btzd3a8bj4jYnrx80wu/CgzTrD8jegbh6uJEfp61IxMREalYNpUAFH5bn5mZWWRdVlaWxTbXsn37dkJDQ4udqrOwfVZWFt7e3hbrsrOzzetdXV2JiIgo0t7Ly4thw4YxZ84cDh8+TLt27a4bz/W0atUKF5eKnW6wMAsPCQmp0ONUFeqPSxy1L5ZsieJskunb/vv738ydt5nm/HfU/rga9ccl6gtL6g9L6o9LKqsv8vPz2bdvX4Uew17Z1BiA+vXrAxT74q3Cwb/F1e5fLjo6moSEBPr161fs+nr16lns78pjFI41uJbAQNMMIRoULFI1xZy8yCfbTdP8Nmvgz/A7Wlg5IhERkcpjUwmAn58fjRo1KrZm7NChQ9SpU4datWpdcx979uwB4JZbbil2fWE2euUxzp49y7lz52jbti0ABw4cYMCAASxfvrzIPo4dOwZAw4YNr3NGImJrcnLzeXvVXgoMcHVx4unRHXB1salLoYiISIWyud96AwYMYM+ePURFRZmXxcTEsGvXLgYPHnzd9lFRUbi7u9O8efNi13fo0IGgoCBWrFhBXt6lYt+lS5fi5ORkPsZNN91EfHw8K1euJCcnx7zdqVOn+OSTT+jQoYP5iYWIVB0rvjpM3Nk0AO7vdzNN6lazckQiIiKVy6bGAABERESwYcMGIiIieOihh3B2dmbhwoUEBQWZa/IzMjLYtm0bNWvWLPIG4BMnTlC7dm2Ll3xdztnZmenTpzN16lQmTJjAkCFDOHjwIGvWrGH06NHmxMHX15dp06Yxc+ZMRo8ezbBhw0hOTmbZsmW4urqaXzImIlXH4eOJfPrdbwA0bxjAfb2L/6JARETEntlcAhAQEMCKFSuYNWsWc+fOxd3dnS5dujBt2jRz7X1iYiLTpk2jS5cuRRKAixcv4ufnd81jDBo0CCcnJ95//31mzpxJUFAQTz75JJMmTbLYbsyYMfj6+rJo0SJeffVVvL296dq1K1OmTKFp06ble+IiUqGyLUp/nJkyOgwXlf6IiIgDsrkEAEy19XPnzr3q+gYNGnDkyJFi123ZsqVEx7jrrru46667rrvd0KFDGTp0aIn2KSK2a9kX0fxxzvQekPABN9Oojkp/RETEMenrLxGxe1HHLrBxx1EAWjaqzrBezawckYiIiPUoARARu5aVk8fbqyIxDHBzdeYplf6IiIiD029BEbFrS7dEc/q8qfRn7MBWNAy69hghERERe6cEQETs1sGj5/nsh98BaNUkkLtvU+mPiIiIEgARsUtZ2Xm8szoSAPfC0h9nJytHJSIiYn1KAETELi3eHMWZCxkAjBvUmvq1fK0ckYiIiG1QAiAidufX386x6cdjAIQ0rcGQHnpvh4iISCElACJiVzKycnln9T4APNxdeHJUKM4q/RERETFTAiAidmXRpigSEk2lP+Pvak29mir9ERERuZwSABGxG/tiEvhi53EA2jSrwaDuN1k3IBERERukBEBE7EJGVi7vrtkHgKe7C0+NClPpj4iISDGUAIiIXVjw+SHOXcwEYMKQEOrU8LFyRCIiIrZJCYCIVHl7Dyfw1a4TALRvUZMB3ZpYNyAREREbpgRARKq09MxcZq8xvfDLy8OFJ0eq9EdERORalACISJX28WcHOZ+cBcBDQ9pQO9DbyhGJiIjYNiUAIlJl/S/6LNt+PglAaHAt+ndrbOWIREREbJ8SABGpktIycpj956w/3p6uPDkyDCcnlf6IiIhcjxIAEamSPtp4kMQUU+lPxN1tqFXdy8oRiYiIVA1KAESkyvn50Bm2/y8OgA431+bOLo2sHJGIiEjVoQRARKqU1Iwc5qzdB4CPpytPjAhV6Y+IiMgNUAIgIlXKh58e4GJqNgATh7alZoBKf0RERG6EEgARqTJ2HjjNd3tPAdC5dRB3dGpo5YhERESqHiUAIlIlJKdlM3fdfgB8vNz4y/D2Kv0REREpBSUAIlIlfPjpAZLSTKU/jwxrSw1/lf6IiIiUhhIAEbF5P+6PZ8e+PwDoGlKH2zs0sHJEIiIiVZcSABGxaclp2by/3lT64+et0h8REZGyUgIgIjbt/fW/kpyWA8Ajw9pRvZqnlSMSERGp2pQAiIjN+mHfH/y4Px6AW9rW5baw+laOSEREpOpTAiAiNuliahbvf/IrANV83HnsPpX+iIiIlAclACJicwzD4P1PfiU1w1T68+h97Qjw87ByVCIiIvZBCYCI2JzvI/9g54HTAHRvX48e7VX6IyIiUl6UAIiITUlMyWLeelPpj7+vO4/e287KEYmIiNgXJQAiYjMMw+C9tftJy8wF4NH72uPvq9IfERGR8qQEQERsxrd7TvFz1BkAbgurT/d29awckYiIiP1RAiAiNuFCciYfbjgAQICfB48MU+mPiIhIRVACICJWZxgGc9buJ/3P0p+/DG9PNR93K0clIiJin5QAiIjVffNLHP+LPgvA7R0b0K1NXStHJCIiYr+UAIiIVZ1PyuSjjabSn8BqHkwa2tbKEYmIiNg3JQAiYjWGYTB7zT4ysvIA+MuIUPy8VfojIiJSkZQAiIjVbN19kr1HEgC4o1NDurSuY+WIRERE7J8SABGxioSLGXz82UEAAqt5MlGlPyIiIpVCCYCIVDrDMJi9eh+Z2abSnydGhuLr5WblqERERByDEgARqXRf7jrBvthzANzZpRGdWgVZOSIRERHHoQRARCrV2cQMFn5uKv2pGeBFxN1trByRiIiIY3G1dgDFiY+P5/XXX2fnzp3k5ubSuXNnnnvuORo3bnzVNmPHjuXnn3++6vouXbqwdOlS88/ffPMN7733Hr///jsBAQEMGzaMxx57DDc3yzKEmJgYXn/9dfbt24ezszO33XYbM2bMoEaNGmU/UREHU1Bg8O7qSDKz8wFT6Y+PSn9EREQqlc0lAElJSYwbN460tDTGjRuHh4cHCxYsIDw8nI0bN171xnvy5MkMHz68yPJNmzaxY8cO+vTpY162bds2nnjiCTp16sSzzz7LkSNHeP/990lISOCVV14xbxcXF8fYsWPx9fVl8uTJZGZmsmDBAg4fPsy6devw8PAo/w4QsWNf7DzOr7+dB6B/t8Z0aFnbyhGJiIg4HptLABYtWsSpU6dYt24dbdqYSgN69uzJ0KFDmT9/PtOnTy+2Xffu3YssO3bsGC+88AK9e/fmwQcfBCA/P59Zs2YREhLCwoULzd/4V6tWjfnz5zN+/HiCg4MBePfdd8nOzmbjxo3UqWOanrBdu3ZMnDiRdevWER4eXt6nL2K3zlxIZ+GmQwDUru7FQ0NCrByRiIiIY7K5MQCbNm0iNDTUfPMPEBwcTLdu3di0adMN7eull14C4IUXXjAvi4yM5I8//mDUqFEW5T5jx47FMAw2b94MQG5uLl999RV9+vQx3/wD3HbbbTRp0oTPP/+8VOcn4ogKCgzeXhVJdo6p9OfJkWF4e6r0R0RExBpsKgFITk4mLi7O4ua/UEhICAkJCSQkJJRoXzt27GDnzp08/PDD1K1b17z84EHT4MMrjxEUFEStWrXM62NjY8nOzqZt26Jzk4eEhBAVFUVBQUGJz03EkW368XcO/X4BgIG3NqF9cC0rRyQiIuK4bCoBOHv2LGC6Gb9S7dqmWuHTp0+XaF9z586lWrVqTJgw4YaOER8fb7Fd4XGv3C47O5vExMQSxSLiyOLPp7F4czQAtQO9mTBYpT8iIiLWZFNjANLT0wHw8vIqss7T0xOAjIyM6+4nKiqKyMhIHn74YXx8fIo9RuH+Lufh4WG+qb9WLIWDfzMzM68bS0lER0fj5ORULvu6muzsbAAOHTpUocepKtQfl1RkXxQUGMzb8gc5uabSn3u6BvD7b0fK/TjlSZ8NS+qPS9QXltQfltQfl1RWXxiGUaH7t2c29QSgsKTmWjfDzs7XD3n16tU4OTkxZsyYGz5G4f5LEktF37SLVHU/RiVzIiELgFtb+9OsrreVIxIRERGbegJQ+G19cd+sZ2VlWWxzLdu3byc0NNSi9v/KY2RlZeHtbXkzkp2dbV5/rVgKM9uSxFISrVq1wsXFpVz2dTWFWXhIiMovQP1xuYrqi1MJqWzb+zsAdWv4MGVMDzw9bOqSUyx9NiypPy5RX1hSf1hSf1xSWX2Rn5/Pvn37KvQY9sqmngDUr18fgHPnzhVZVzj4t7ja/ctFR0eTkJBAv379il1fr149i/1deYzCmv/rxeLl5YW/v/81YxFxVPkFBu+siiQnrwAnJ3hqdFiVuPkXERFxBDaVAPj5+dGoUaNia8YOHTpEnTp1qFXr2rOH7NmzB4Bbbrml2PWF2eiVxzh79iznzp0zz/rTtGlTvLy8rhpL69atS1SOJOKINn5/lMMnLgIwpGdTQprqzdkiIiK2wubuYAcMGMCePXuIiooyL4uJiWHXrl0MHjz4uu2joqJwd3enefPmxa7v0KEDQUFBrFixgry8PPPypUuX4uTkZD6Gu7s7d9xxB1u3buXMmTPm7Xbs2MHx48dLFIuII4o7m8qyL02z/tSr6cPYga2sHJGIiIhczuaeyUdERLBhwwYiIiJ46KGHcHZ2ZuHChQQFBREREQGYZgLatm0bNWvWLPIG4BMnTlC7dm2Ll3xdztnZmenTpzN16lQmTJjAkCFDOHjwIGvWrGH06NEWicOTTz7Jd999R3h4OOPHjyc1NZWPP/6YkJAQ7r333orrBJEqKj+/gLdX7SX3z9Kfp0d3wNPd5i4zIiIiDs3mfjMHBASwYsUKZs2axdy5c3F3d6dLly5MmzaNwMBAABITE5k2bRpdunQpkgBcvHgRPz+/ax5j0KBBODk58f777zNz5kyCgoJ48sknmTRpksV2TZo0YenSpbz22mu8+eab+Pr60r9/f5599tlipxEVcXTrv/uNmJNJANxzWzNa3RRo3YBERESkCJtLAAAaNmzI3Llzr7q+QYMGHDlS/FziW7ZsKdEx7rrrLu66667rbhcSEsLixYtLtE8RR3biTAorvjL9u6xfy5cxKv0RERGxSTY3BkBEqp68/ALeXrmXvPwCnJ3g6fvD8HCr2KltRUREpHSUAIhImX3ybSy/nUoGYNjtzbm5sUp/REREbJUSABEpk2Pxyazaair9aRjkxwP9b7ZyRCIiInItSgBEpNTy8gt4e1UkefkGzs5OPD06DHeV/oiIiNg0JQAiUmprv4nl9z9MpT/39W5OcKPqVo5IRERErkcJgIiUyu9/JLN6m6n0p3EdP+7v19LKEYmIiEhJKAEQkRuWm1fAWyv3kl/wZ+nP/R1wc1Xpj4iISFWgBEBEbtiar2M4fjoFgBF9WtC8QYB1AxIREZESUwIgIjfkt1NJrPkmBoAmdasxqq9Kf0RERKoSJQAiUmK5efm8vXIvBQUGLs5OTLm/A26uuoyIiIhUJfrNLSIltnLrEU6cSQVg1J0taVrf38oRiYiIyI1SAiAiJRJz8iKfbI8FoGl9f0b0aWHliERERKQ0lACIyHXl5Obz9qpICgxwdTG98MvVRZcPERGRqki/wUXkulZ8dZi4s6bSn9H9WnJTPZX+iIiIVFVKAETkmg6fSOTT734DoHkDf4b3VumPiIhIVaYEQESuKjs3n7dXFpb+OPP0/R1wUemPiIhIlabf5CJyVcu/PMwf59IAeKB/SxrXqWbliERERKSslACISLGijyWy4XtT6U9wowDuvb25lSMSERGR8qAEQESKyMrJ4+1VezEMcHN15unRKv0RERGxF/qNLiJFLP0imvjz6QCMGdCKhkF+Vo5IREREykuJEoCEhASmT5/Oc889x++//25ePmzYsAoLTESs49DvF/j8B9O/85sbV+eeXs2sHJGIiIiUJ9eSbPSPf/yDgwcP4urqyvbt21m7di2NGjUiOjq6ouMTkUqUlZ3HO6siMQxwd3XmqdFhuDg7WTssERERKUclegKwd+9eVq1axZYtW6hfvz5PPfUUOTk5FR2biFSyxVuiOH3BVPoz9q7WNKit0h8RERF7U6IEIDc3l4CAALy9vXnnnXeIi4vjn//8J05O+mZQxF4c+O08m/57DIDWNwUypGdTK0ckIiIiFaFECUCrVq148sknyc7OpmHDhsyaNYt169ZVdGwiUkmycwt4e3UkAO5uLir9ERERsWMlSgD+7//+j/j4eFxdTUMG7rzzTl566SVcXFyu2S41NbXsEYpIhfvilwskJGYAMH5QK+rV9LVyRCIiIlJRSvwE4Msvv8TFxYXs7GxSU1MZNWoUX3/99VXbbN68mYEDB5ZboCJSMX6Lz2DX4WQAQprWYHB3lf6IiIjYsxK/B2Dv3r3cf//9hIaG0qVLF/r06cPOnTuLbBcfH8+kSZP461//yoULF8o1WBEpXxlZuaz7IQEAT3cXnh4dhrNKf0REROxaiaYB3b9/P+PGjSMvLw9XV1f8/Pz4448/+Nvf/kZKSgrjx48HYM2aNcyaNYvMzEx8fX2ZMmVKhQYvImWz4PNDJKXnAfDg4BDq1PCxckQiIiJS0Ur0BOCjjz4iLy+Pv/zlL0RGRrJz507WrVtHgwYNeO+998jJyWHmzJm88MILZGZm0q9fP7Zs2UJ4eHhFxy8ipbT3SAJf7ToBQNO6Xgy8pYl1AxIREZFKUaIE4NdffyU0NJQnnngCNzc3ANq0acPzzz9PSkoK//d//8fy5cupUaMGc+bM4d1336V27doVGriIlF56Zi6z1+wDwN3VieE9aqv0R0RExEGUKAFISkqiffv2RZZ36NABgM8++4zOnTuzceNG+vbtW74Riki5+/izg5xPygRgUJeaBPq5WTkiERERqSwlGgOQk5ODn1/RN4IWLqtTpw4fffQRnp6e5RudiJS7/0WfZdvPJwEIbVGLLi2rWTkiERERqUwlngXoWgYMGKCbf5EqIO2y0h8vD1eeGBWqN3qLiIg4mHJJAHx8NHOISFUwf+MBElOyAIi4uw21q3tbOSIRERGpbOWSAIiI7fs56gzf/BIHQIeWtenXtZGVIxIRERFrKNEYAICff/6ZOXPm3NA6Jycn/vKXv5Q+OhEpF6kZOby3dh8APp6uPDFSpT8iIiKO6oYSgJ9//vmG1ikBELENH244QGJKNgAP39OWmgFeVo5IRERErKVECcCsWbMqOg4RqSC7Dp7muz2nAOjUKog+nRtaOSIRERGxphIlAMOGDavoOESkAqSk5/Deuv0A+Hi58fiI9ir9ERERcXAaBCxix+Z9+itJqabSn0lD21LDX6U/IiIijk4JgIid+vHXeHZE/gFA15A69O7YwMoRiYiIiC1QAiBih5LTsnn/E1Ppj6+XG48NV+mPiIiImCgBELFDH6z/leS0HAAeubcdgdX0pm4RERExUQIgYmd+2PcH/90fD8AtbevSK6y+lSMSERERW1Li9wBUpvj4eF5//XV27txJbm4unTt35rnnnqNx48bXbbt9+3Y++OADjhw5QkBAALfffjtTp07F39/fvI1hGCxcuJBVq1Zx5swZ6tevz6hRoxg3bhzOzpY5UY8ePTh37lyR4/Tp04e5c+eW/WRFytHF1Cze/+RXAPy83Xn0vnYq/RERERELNpcAJCUlMW7cONLS0hg3bhweHh4sWLCA8PBwNm7cSI0aNa7adsOGDcyYMYOwsDBmzJjBsWPHWL58ObGxsSxduhQXFxcAXnrpJVauXElYWBhjxozh5MmTvPbaaxw8eJA33njDIpZz585xzz330L17d4tj1a1bt2I6QKSUDMPg/U9+JTXDVPrz6H3tqO6n0h8RERGxZHMJwKJFizh16hTr1q2jTZs2APTs2ZOhQ4cyf/58pk+fXmy7lJQUXnnlFcLCwli8eDHu7u4A1KtXj1mzZvHjjz9y2223cejQIVauXEmXLl1YsGABbm5uALRo0YJ//OMfDB48mNtvvx2A2NhYAAYOHEjv3r0r+MxFyuaHfX+w88BpALq3q0fPUJX+iIiISFE2NwZg06ZNhIaGmm/+AYKDg+nWrRubNm26arutW7eSkpLClClTzDf/AHfffTeTJ0/Gz88PgG+//RaAxx57zHzzDzBixAgCAgJYv369eVlMTAwAzZo1K5+TE6kgF1Oy+GC9qfTH39dU+iMiIiJSHJtKAJKTk4mLi7O4+S8UEhJCQkICCQkJxbbds2cP3t7edOjQAYCcnBxycnIIDAxkypQphIWFAXDmzBkAWrZsadHe2dmZhg0bEhUVZV4WGxuLh4cHDRo0wDAMMjIyyuU8RcqTYRi8t24/qRm5ADx6X3v8fT2sHJWIiIjYKptKAM6ePQtAUFBQkXW1a9cG4PTp08W2PXbsGLVr1+bw4cM88MADtGvXjtDQUB599FHzfgG8vb0BSE9PL7KP5ORkzp8/b/45NjYWf39/nn32WcLCwggLC6Nfv35s3ry59CcpUs6+23uK3YdMie1tofXp3q6elSMSERERW2ZTYwAKb8q9vLyKrPP0NA1mvNq38CkpKaSnpzN+/HgGDRrEgw8+SExMDPPmzWPcuHGsX78eHx8fQkNDWbx4MV988QWTJk0yt4+OjiYuLs5ixpTffvuNpKQk3N3deeONN7h48SJLlixh6tSpZGZmMnz48HI57+jo6AqfqSU7OxuAQ4cOVehxqgp76Y+UjDzmrj8JgK+nC71au9/wOdlLX5QX9Ycl9ccl6gtL6g9L6o9LKqsvDMOo0P3bM5tKAAoKCgCueTN85TSdhXJycjh37hyTJk3imWeeAaBfv37Ur1+fGTNmsGbNGiZMmEDfvn1p1qwZs2fPxt3dnT59+nD8+HH++c9/Uq1aNXOCkZeXx6RJkwgMDGTYsGHm4wwePJhBgwbx+uuvc/fdd1uMNxCpTIZhsP7HBLJyTP9uht5aCx9PFytHJSIiIrbOphIAHx8fADIzM4usy8rKstjmSoVPDUaOHGmxfMiQITz//PPs3r2bCRMm4O7uzkcffcTTTz/NrFmzmDVrFu7u7kRERHDixAl++eUXAFxdXYmIiCj2OMOGDWPOnDkcPnyYdu3KPtiyVatW5ilKK0phFh4SElKhx6kq7KE/vvnlJIfjjgJwe4cGjBrUsVT7sYe+KE/qD0vqj0vUF5bUH5bUH5dUVl/k5+ezb9++Cj2GvbKpBKB+fdO0hcW9eKtw8G9x4wMKl8fExBAYGGix3NXVFX9/f4ua//r167N27VqOHj1KUlISzZs3x9/fn5EjR9KgQYPrxll4DA0KFms5n5TJRxsOAFDdz4NJw9paOSIRERGpKmxqELCfnx+NGjUqtmbs0KFD1KlTh1q1ahXbtnDmoKNHj1osT09PJzEx0fzirjNnzrB27VrOnj1Ls2bN6NixI/7+/qSlpREdHU3HjqZvUQ8cOMCAAQNYvnx5kWMdO3YMgIYNG5b+ZEVKyTAMZq/dR3pWHgCPjwjFz1ulaCIiIlIyNpUAAAwYMIA9e/ZYTMcZExPDrl27GDx48FXbDR48GGdnZ+bNm2cxKGTRokUYhkG/fv0AU0Lw/PPPs2rVKov27777LgUFBYwePRqAm266ifj4eFauXElOTo55u1OnTvHJJ5/QoUMH8xMLkcr09c8n2XvY9ETsjk4N6RJSx8oRiYiISFViUyVAABEREWzYsIGIiAgeeughnJ2dWbhwIUFBQeaa/IyMDLZt20bNmjXp3r07AM2bN2fixInMmzePhx9+mDvvvJOoqCjWrFlDr1696Nu3L2B6qVefPn346KOPSE9Pp0WLFvz0009s2bKFZ555xvytvq+vL9OmTWPmzJmMHj2aYcOGkZyczLJly3B1deWll16yTgeJQ0u4mMH8zw4CEFjNk4n3FH1nhoiIiMi12FwCEBAQwIoVK5g1axZz587F3d2dLl26MG3aNHPtfWJiItOmTaNLly7mBABg6tSpNGzYkCVLlvDKK69Qo0YNJk2axOOPP25xjNdee405c+awdetW1qxZQ9OmTXnjjTcYMmSIxXZjxozB19eXRYsW8eqrr+Lt7U3Xrl2ZMmUKTZs2rfjOELmMYRjMXrOPjD9Lf54YGYqvSn9ERETkBtlcAgCm2vq5c+dedX2DBg04cuRIsetGjBjBiBEjrrl/X19fZsyYwYwZM64by9ChQxk6dOh1txOpaF/tOsG+GNMA+Tu7NKJTq+IHxIuIiIhci82NARCRos4mZrDgc1PpT01/TyLuVumPiIiIlI4SABEbV1Bg8O7qSDKz8wF4YmQYPl5uVo5KREREqiolACI27stdx/n1t/MA9O/WmA4317ZyRCIiIlKVKQEQsWFnLqSz8HPTezFqVffioSF6w6SIiIiUjRIAERtVUGDwzupIsnJMpT9PjgzF21OlPyIiIlI2SgBEbNSWn45x8OgFAAbe0oTQYJX+iIiISNkpARCxQfHn01i02fQ27NqB3jw4uLWVIxIRERF7oQRAxMYUFBi8syqS7D9Lf54apdIfERERKT9KAERszOf//Z2oY4kADO5+E+2a17JyRCIiImJPlACI2JA/zqWxZEs0AHVqeDN+kEp/REREpHwpARCxEfl/lv7k5BaW/oTh6eFq5ahERETE3igBELERn+04SvRxU+nP3T2b0qZZTStHJCIiIvZICYCIDYg7m8rSL0ylP3Vr+jD2rlZWjkhERETslRIAESsrLP3JzSvAyQmeHh2Gp7tKf0RERKRiKAEQsbIN3/3GkZMXAbjntma0vqmGlSMSERERe6YEQMSKTp5JYdmXhwGoX8uHMQNV+iMiIiIVSwmAiJXk5xfw1qpI8vILcHaCp+/vgIebi7XDEhERETunBEDESj759jd+i0sCYNjtzbm5caB1AxIRERGHoARAxAqOn05h5VZT6U/DIF8e6H+zlSMSERERR6EEQKSS5eUX8PaqveTlG6bSn9EdcFfpj4iIiFQSJQAilWzd9liOnkoG4L47WhDcqLqVIxIRERFHogRApBL9/kcyq7YeAaBRHT/u79fSyhGJiIiIo1ECIFJJcvNMpT/5BQbOzk5MGd0BN1eV/oiIiEjlUgIgUknWfhPDsfgUAEbc0YLmDQOsG5CIiIg4JCUAIpXgt1NJrPk6BoAmdasx6k6V/oiIiIh1KAEQqWC5efm8syqS/AIDF2cnnh4dhpur/umJiIiIdeguRKSCrdoWw/HTptKfUX2DadYgwLoBiYiIiENTAiBSgWLjLrJueywATev5M6JvsJUjEhEREUenBECkguTm5fPWykgKCgxcXZx4+v4wXF30T05ERESsS3cjIhVkxVdHiDubCsDoO1tyUz1/K0ckIiIiogRApEIcOZHI+m9NpT/NG/hz3x0trByRiIiIiIkSAJFylpObz9urIikwwNXFmadHd1Dpj4iIiNgM3ZWIlLPlXx7mVEIaAA/0b0njutWsHJGIiIjIJUoARMpR9LFEPv3+NwBaNAzg3tubWzkiEREREUtKAETKSVZOHm+v2othgJurM0+PDsNFpT8iIiJiY3R3IlJOln1xmPjz6QCMGXAzjeqo9EdERERsjxIAkXJw6PcLfPbDUQBaNq7OPb1U+iMiIiK2SQmASBllZefxzupIDAPcC0t/nJ2sHZaIiIhIsZQAiJTRki+iOf1n6c/Yu1rRoLaflSMSERERuTolACJlcODoeT7/4XcAWjUJZEjPZlaOSEREROTalACIlFJmdh7vro4EwN3NRaU/IiIiUiUoARAppcWbozhzIQOA8Xe1ol4tXytHJCIiInJ9SgBESmF/7Dk2/3gMgJCmNRjco6mVIxIREREpGSUAIjcoIyvXXPrj4e7CU6PCcFbpj4iIiFQRNpkAxMfHM2XKFLp160bHjh2ZPHkyJ06cKFHb7du3M3LkSNq3b0+vXr144YUXSE5OttjGMAwWLFhAv379aNeuHQMHDmTRokUUFBQU2V9MTAwTJ06kc+fOdO3alWeffZYLFy6Uy3lK1bRwUxQJFzMBeHBQa+rW9LFyRCIiIiIl52rtAK6UlJTEuHHjSEtLY9y4cXh4eLBgwQLCw8PZuHEjNWrUuGrbDRs2MGPGDMLCwpgxYwbHjh1j+fLlxMbGsnTpUlxcXAB46aWXWLlyJWFhYYwZM4aTJ0/y2muvcfDgQd544w3z/uLi4hg7diy+vr5MnjyZzMxMFixYwOHDh1m3bh0eHh4V3h9iWyKPJPDlzuMAtG1Wk7tuvcm6AYmIiIjcIJtLABYtWsSpU6dYt24dbdq0AaBnz54MHTqU+fPnM3369GLbpaSk8MorrxAWFsbixYtxd3cHoF69esyaNYsff/yR2267jUOHDrFy5Uq6dOnCggULcHNzA6BFixb84x//YPDgwdx+++0AvPvuu2RnZ7Nx40bq1KkDQLt27Zg4cSLr1q0jPDy8gntDbElGVi7vrtkHgKe7C0+OClXpj4iIiFQ5NlcCtGnTJkJDQ803/wDBwcF069aNTZs2XbXd1q1bSUlJYcqUKeabf4C7776byZMn4+dnejnTt99+C8Bjjz1mvvkHGDFiBAEBAaxfvx6A3NxcvvrqK/r06WO++Qe47bbbaNKkCZ9//nn5nLBUGR9/dojzSabSn4eGhFCnhkp/REREpOqxqQQgOTmZuLg4i5v/QiEhISQkJJCQkFBs2z179uDt7U2HDh0AyMnJIScnh8DAQKZMmUJYWBgAZ86cAaBly5YW7Z2dnWnYsCFRUVEAxMbGkp2dTdu2bYuNJSoqqtgxA2Kf9hw+y9bdpnEooS1qMeCWJtYNSERERKSUbCoBOHv2LABBQUFF1tWuXRuA06dPF9v22LFj1K5dm8OHD/PAAw/Qrl07QkNDefTRR837BfD29gYgPT29yD6Sk5M5f/68RSyFx70yluzsbBITE2/k9KSKSsvMZfafpT9eHq48MTIUJyeV/oiIiEjVZFNjAApvyr28vIqs8/T0BCAjI6PYtikpKaSnpzN+/HgGDRrEgw8+SExMDPPmzWPcuHGsX78eHx8fQkNDWbx4MV988QWTJk0yt4+OjiYuLs58Y3etWAoH/2ZmZpbhbC+Jjo6u8BvK7OxsAA4dOlShx6kqbqQ/1v5wlgvJWQAM7FSdc6ePca74PLRK0mfDkvrDkvrjEvWFJfWHJfXHJZXVF4ZhVOj+7ZlNJQCFJTXXuhl2di7+oUVOTg7nzp1j0qRJPPPMMwD069eP+vXrM2PGDNasWcOECRPo27cvzZo1Y/bs2bi7u9OnTx+OHz/OP//5T6pVq2ZOMEoSi74Ftn+H49LZE5sKQIv6XnQOrmbliERERETKxqYSAB8f06DK4r5Zz8rKstjmSoXf1I8cOdJi+ZAhQ3j++efZvXs3EyZMwN3dnY8++oinn36aWbNmMWvWLNzd3YmIiODEiRP88ssv142lMLO9Wiw3qlWrVuYpSitKYRYeEhJSocepKkrSH2kZOby2bjsA3p6uPDehJ7WqF30iVNXps2FJ/WFJ/XGJ+sKS+sOS+uOSyuqL/Px89u3bV6HHsFc2lQDUr18fgHPnzhVZVzj4t7jxAYXLY2JiCAwMtFju6uqKv7+/Rc1//fr1Wbt2LUePHiUpKYnmzZvj7+/PyJEjadCgQYli8fLywt/fvxRnKVXFhxsOkJhiSvYevruNXd78i4iIiOOxqUHAfn5+NGrUqNiasUOHDlGnTh1q1apVbNvCmYOOHj1qsTw9PZ3ExETq1q0LmGYBWrt2LWfPnqVZs2Z07NgRf39/0tLSiI6OpmPHjgA0bdoULy+vq8bSunXrq5YjSdW3++Bpvt1zCoCON9emb5dGVo5IREREpHzY3B3sgAED2LNnj3k6ToCYmBh27drF4MGDr9pu8ODBODs7M2/ePItBIYsWLcIwDPr16weYEoLnn3+eVatWWbR/9913KSgoYPTo0QC4u7tzxx13sHXrVvPUoQA7duzg+PHj14xFqraU9BzeW7cfAB9PzfojIiIi9sWmSoAAIiIi2LBhAxERETz00EM4OzuzcOFCgoKCiIiIAEwzAW3bto2aNWvSvXt3AJo3b87EiROZN28eDz/8MHfeeSdRUVGsWbOGXr160bdvXwCaNWtGnz59+Oijj0hPT6dFixb89NNPbNmyhWeeeYaGDRuaY3nyySf57rvvCA8PZ/z48aSmpvLxxx8TEhLCvffeW/mdI5Xiw08PcDHVVPozaVhbavir9EdERETsh80lAAEBAaxYsYJZs2Yxd+5c3N3d6dKlC9OmTTPX9ycmJjJt2jS6dOliTgAApk6dSsOGDVmyZAmvvPIKNWrUYNKkSTz++OMWx3jttdeYM2cOW7duZc2aNTRt2pQ33niDIUOGWGzXpEkTli5dymuvvcabb76Jr68v/fv359lnnzVPSyr2ZeeBeL6PNJX+dGldh94dG16nhYiIiEjVYnMJAEDDhg2ZO3fuVdc3aNCAI0eOFLtuxIgRjBgx4pr79/X1ZcaMGcyYMeO6sYSEhLB48eLrbidVX3JaNnPX/QqAr5cbfxnRXqU/IiIiYndsbgyAiLXM+/QASWmm0p9HhrUlsJqe8oiIiIj9UQIgAvx3/x/8sO8PALq1qUOvDg2sHJGIiIhIxVACIA4vKTWb9z8xlf74ebvz2HCV/oiIiIj9UgIgDs0wDN5fv5+U9BwAJt/blup+Kv0RERER+6UEQBzaf/fF89OvpwG4tV1deobWt3JEIiIiIhXLJmcBEqkMqRl5vP+Z6YVf1XzcefRelf6IiIiI/dMTAHFIhmHw6U/nSM3IBeDR+9oR4Odh5ahEREREKp4SAHFI+35PI+pkOgA9Q+vTo71Kf0RERMQxKAEQh5OYksVnO88BEODrwSPD2lo5IhEREZHKowRAHIphGLy3dj+ZOQUAPDa8Hf6+Kv0RERERx6EEQBzKt3vi+DnqDAChTX25pW09K0ckIiIiUrmUAIjDuJCcyYefHgDAz8uFId1qWTkiERERkcqnBEAcgmEYzF6zj/SsPACGda+Nj6eLlaMSERERqXx6D4A4hG9+OcmewwkA9O7YgNaN9LZfERERcUx6AiB279zFTD7aeBCAwGoeTBqqWX9ERETEcSkBELtmKv2JJOPP0p/HR4Ti6+1u5ahERERErEcJgNi1rbtPEBljmvO/b+dGdG5dx8oRiYiIiFiXEgCxWwmJGXz82SEAavh7EnFPGytHJCIiImJ9SgDELhmGwbtrIsnMNpX+PDEyFF8vNytHJSIiImJ9SgDELn258zj7Y88D0K9rYzreHGTliERERERsgxIAsTtnLqSz4HNT6U/NAC8i7g6xckQiIiIitkMJgNiVggLTC7+ycvIBeHJkKN6eKv0RERERKaQEQOzKFz8d49ffTKU/A25pQljL2laOSERERMS2KAEQu3H6fDoLN0cBULu6FxMGt7ZyRCIiIiK2RwmA2IWCAoN3VkeSXVj6MypMpT8iIiIixVACIHZh039/59DvFwC469YmtG9Ry8oRiYiIiNgmJQBS5cWfS2PxlmgAggK9eXCwZv0RERERuRolAFKl5RcYvL0qkpxcU+nPU6PD8PJwtXJUIiIiIrZLCYBUaZ//cJTo44kADOnZlLbNalo5IhERERHbpgRAqqxTCaks/bP0p25NH8YNbGXliERERERsnxIAqZLMpT95BTg5wVOjwvBU6Y+IiIjIdSkBkCpp4/e/ceTERQDu7tmMkKY1rByRiIiISNWgBECqnJNnUlj25WEA6tfyYczAm60ckYiIiEjVoQRAqpT8/ALeXhVJbl4Bzk7w9OgOeLqr9EdERESkpJQASJWy/rvfiI1LAuCeXs25uUmgdQMSERERqWKUAEiVceJ0Ciu+OgJAg9q+hA9Q6Y+IiIjIjVICIFVCXn4Bb6/aS15+YelPGB5uLtYOS0RERKTKUQIgVcIn22P57VQyAPf2bkHLxir9ERERESkNJQBi847FJ7Nqm6n0p1EdPx7o39LKEYmIiIhUXUoAxKbl5Rfw9spI8vINnJ2deHp0GG6uKv0RERERKS0lAGLT1n4dw+/xptKf4Xe0oEXD6laOSERERKRqUwIgNuvoqSRWfx0DQJO61Rh9Z7CVIxIRERGp+pQAiE3KzTO98Cu/wMDF2YmnVPojIiIiUi6UAIhNWr3tCMdPpwAwok8wzRsEWDcgERERETvhau0AihMfH8/rr7/Ozp07yc3NpXPnzjz33HM0btz4um23b9/OBx98wJEjRwgICOD2229n6tSp+Pv7W2y3cuVKli5dysmTJwkICKB///5MnToVHx8fi+169OjBuXPnihynT58+zJ07t2wnKsX6LS6JtdtjAbipXjVG9lXpj4iIiEh5sbkEICkpiXHjxpGWlsa4cePw8PBgwYIFhIeHs3HjRmrUqHHVths2bGDGjBmEhYUxY8YMjh07xvLly4mNjWXp0qW4uJhKSD788EPefPNNOnXqRHh4OEePHmXFihUcOXKEpUuX4uTkZI7l3Llz3HPPPXTv3t3iWHXr1q24TnBguXn5vLVqLwV/lv5Mub8Dbq56UCUiIiJSXmwuAVi0aBGnTp1i3bp1tGnTBoCePXsydOhQ5s+fz/Tp04ttl5KSwiuvvEJYWBiLFy/G3d0dgHr16jFr1ix+/PFHbrvtNnJzc5k3bx4tWrRg8eLFuLqauiAwMJDZs2ezY8cOevXqBUBsrOlb6IEDB9K7d++KPnUBVm49wskzqQCM7teSm+r5X6eFiIiIiNwIm/tqddOmTYSGhppv/gGCg4Pp1q0bmzZtumq7rVu3kpKSwpQpU8w3/wB33303kydPxs/PD4CLFy+SlpZG165dzTf/ALfddhsAR44cMS+LiTHNQNOsWbPyOTm5ppiTF/nkz9KfZg38GX5HCytHJCIiImJ/bCoBSE5OJi4uzuLmv1BISAgJCQkkJCQU23bPnj14e3vToUMHAHJycsjJySEwMJApU6YQFhYGmL7pr1atGseOHbNoHxcXB0CtWrXMy2JjY/Hw8KBBgwYYhkFGRka5nKcUlZObz9ur9lJggKuLE0+P7oCri019PEVERETsgk3dYZ09exaAoKCgIutq164NwOnTp4tte+zYMWrXrs3hw4d54IEHaNeuHaGhoTz66KPm/QK4urry97//nd27dzN37lzi4uL44YcfeO2112jSpAn9+vUzbxsbG4u/vz/PPvssYWFhhIWF0a9fPzZv3lyepy3Aiq8OE3c2DYD7+91Mk7rVrByRiIiIiH2yqTEA6enpAHh5eRVZ5+npCXDVb+FTUlJIT09n/PjxDBo0iAcffJCYmBjmzZvHuHHjWL9+vXmGn169etG3b1/eeecd3nnnHcD0zf/8+fMtZgH67bffSEpKwt3dnTfeeIOLFy+yZMkSpk6dSmZmJsOHDy+X846OjjYPPK4o2dnZABw6dKhCj1MaJxIyWf/dHwA0qOnBzUE5FR6nLfdHZVNfWFJ/WFJ/XKK+sKT+sKT+uKSy+sIwjArdvz2zqQSgoKAA4Jo3w87OxT+0yMnJ4dy5c0yaNIlnnnkGgH79+lG/fn1mzJjBmjVrmDBhAhkZGYSHh3Ps2DHCw8O55ZZbiI+P58MPPyQ8PJylS5fSuHFj8vLymDRpEoGBgQwbNsx8nMGDBzNo0CBef/117r77bovxBnLjcvMKWLsjAcMAF2cY0TMIF+eKTYZEREREHJlNJQCF375nZmYWWZeVlWWxzZUKnxqMHDnSYvmQIUN4/vnn2b17NxMmTGDjxo0cPXqUqVOn8sgjj5i3u/3227nnnnv417/+xbx583B1dSUiIqLY4wwbNow5c+Zw+PBh2rVrV7qTvUyrVq3MU5RWlMIsPCQkpEKPc6M+/uwg51NyARgzsDV39Kicgb+22h/WoL6wpP6wpP64RH1hSf1hSf1xSWX1RX5+Pvv27avQY9grmxoDUL9+fYBiX7xVOPi3uPEBly8PDAy0WO7q6oq/v7+5vKhwZp+hQ4dabNe4cWM6d+7M7t27r/tIqfAYGhRcNlHHLrBxx1EAWjaqzrBemm1JREREpKLZVALg5+dHo0aNiq0ZO3ToEHXq1LGYpedyhTMHHT161GJ5eno6iYmJ5hd3eXh4AJfKjS5XUFBAXl4eAAcOHGDAgAEsX768yHaFMwg1bNiwpKcmV8jKyePtVZEYBri5OvPU6DBcNOuPiIiISIWzuTuuAQMGsGfPHqKioszLYmJi2LVrF4MHD75qu8GDB+Ps7My8efMsvsFftGgRhmGYZ/cpfKPvlTf2R48e5ZdffqFr1644OTlx0003ER8fz8qVK8nJyTFvd+rUKT755BM6dOhgfmIhN27plmhOnzc9lRk7sBUNg/ysHJGIiIiIY7CpMQAAERERbNiwgYiICB566CGcnZ1ZuHAhQUFB5pr8jIwMtm3bRs2aNc039M2bN2fixInMmzePhx9+mDvvvJOoqCjWrFljnvUHTG8VHjBgAB999BEnT56kR48enD59muXLl+Pq6mp+07Cvry/Tpk1j5syZjB49mmHDhpGcnMyyZctwdXXlpZdesk4H2YGDR8/z2Q+/A9CqSSB336bSHxEREZHKYnMJQEBAACtWrGDWrFnMnTsXd3d3unTpwrRp08y194mJiUybNo0uXbqYEwCAqVOn0rBhQ5YsWcIrr7xCjRo1mDRpEo8//rjFMf7zn/8QEhLC+vXr2b59Oz4+PnTr1o2nnnrK4q2/Y8aMwdfXl0WLFvHqq6/i7e1N165dmTJlCk2bNq2cDrEzWdl5vLM6EgD3wtIfzfojIiIiUmlsLgEAU2393Llzr7q+QYMGHDlypNh1I0aMYMSIEdfcv4uLC5MmTWLSpEnXjWXo0KFFBgxL6S3eHMWZC6bB0+MGtaZ+LV8rRyQiIiLiWGxuDIDYr19/O8emH00DqEOa1mBIDz1FEREREalsSgCkUmRm5/HO6n0AeLi78OSoUJxV+iMiIiJS6ZQASKVYuOkQCYmm0p/xd7WmXk2V/oiIiIhYgxIAqXD7YhL44qfjALRpVoNB3W+ybkAiIiIiDkwJgFSojKxc3l2zDwBPdxeeGhWm0h8RERERK1ICIBVqweeHOHcxE4AJQ0KoU8PHyhGJiIiIODYlAFJh9h5O4KtdJwBo17wmA7o1sW5AIiIiIqIEQCpGemYus9eYXvjl5eHCkyr9EREREbEJSgCkQnz82UHOJ2cB8NCQNgQFels5IhEREREBJQBSAf4XfZZtP58EIDS4Fv27NbZyRCIiIiJSSAmAlKu0jBxm/znrj7enK0+ODMPJSaU/IiIiIrZCCYCUq482HiQxxVT6E3F3G2pV97JyRCIiIiJyOSUAUm5+PnSG7f+LA6DDzbW5s0sjK0ckIiIiIldSAiDlIjUjhzlr9wHg4+nKEyNCVfojIiIiYoOUAEi5+PDTA1xMzQZg4tC21AxQ6Y+IiIiILVICIGW288Bpvtt7CoBOrYK4o1NDK0ckIiIiIlejBEDKJDktm7nr9gPg4+XG4yPaq/RHRERExIYpAZAy+fDTAySlmUp/HhnWlhr+Kv0RERERsWVKAKTUftwfz459fwDQNaQOt3doYOWIREREROR6lABIqSSnZfP+elPpj5+3G38ZrtIfERERkapACYCUyvvrfyU5LQeAR4a1o3o1TytHJCIiIiIloQRAbtgP+/7gx/3xANzSti63hdW3ckQiIiIiUlJKAOSGXEzN4v1PfgWgmo87j92n0h8RERGRqkQJgJSYYRi8/8mvpGaYSn8eva8dAX4eVo5KRERERG6EEgApsR2Rf7DzwGkAurevR4/2Kv0RERERqWqUAEiJJKZk8cF6U+mPv687j97bzsoRiYiIiEhpKAGQ6zIMg/fW7ictMxeAR+9rj7+vSn9EREREqiIlAHJd3+45xc9RZwC4Law+3dvVs3JEIiIiIlJaSgDkmi4kZ/LhhgMABPh58Mgwlf6IiIiIVGVKAOSqDMNgztr9pP9Z+vOX4e2p5uNu5ahEREREpCyUAMhVffNLHP+LPgvA7R0b0K1NXStHJCIiIiJlpQRAinU+KZOPNppKfwKreTBpaFsrRyQiIiIi5UEJgBRhGAaz1+wjIysPgL+MCMXPW6U/IiIiIvZACYAUse3nk+w9kgDAHZ0a0qV1HStHJCIiIiLlRQmAWEi4mMH8jQcBCKzmyUSV/oiIiIjYFSUAYmYYBrNX7yMz21T688TIUHy93KwclYiIiIiUJyUAYvblrhPsiz0HwJ1dGtGpVZCVIxIRERGR8qYEQAA4m5jBws9NpT81/T2JuLuNlSMSERERkYqgBEAoKDB4d3Ukmdn5ADwxKgwflf6IiIiI2CUlAMIXO4/z62/nAejfrTEdWta2ckQiIiIiUlGUADi4MxfSWbjpEAC1q3vx0JAQK0ckIiIiIhVJCYADKygweHtVJNk5ptKfJ0eG4e2p0h8RERERe6YEwIFt/vEYh36/AMDAW5vQPriWlSMSERERkYqmBMBBxZ9PY9HmKABqB3ozYbBKf0REREQcgU0mAPHx8UyZMoVu3brRsWNHJk+ezIkTJ0rUdvv27YwcOZL27dvTq1cvXnjhBZKTk4tst3LlSu666y7atGlDjx49mDlzJunp6UW2i4mJYeLEiXTu3JmuXbvy7LPPcuHChTKfozXlFxi8vTKSnFxT6c/To8Lw8nC1clQiIiIiUhls7q4vKSmJcePGkZaWxrhx4/Dw8GDBggWEh4ezceNGatSocdW2GzZsYMaMGYSFhTFjxgyOHTvG8uXLiY2NZenSpbi4uADw4Ycf8uabb9KpUyfCw8M5evQoK1as4MiRIyxduhQnJycA4uLiGDt2LL6+vkyePJnMzEwWLFjA4cOHWbduHR4eHpXSJ+Xt8x9+J/p4IgCDe9xE2+Y1rRyRiIiIiFQWm0sAFi1axKlTp1i3bh1t2pheRtWzZ0+GDh3K/PnzmT59erHtUlJSeOWVVwgLC2Px4sW4u7sDUK9ePWbNmsWPP/7IbbfdRm5uLvPmzaNFixYsXrwYV1dTFwQGBjJ79mx27NhBr169AHj33XfJzs5m48aN1KlTB4B27doxceJE1q1bR3h4eEV3R7k7lZDK0i2m0p+6NXwYf1drK0ckIiIiIpXJ5kqANm3aRGhoqPnmHyA4OJhu3bqxadOmq7bbunUrKSkpTJkyxXzzD3D33XczefJk/Pz8ALh48SJpaWl07drVfPMPcNtttwFw5MgRAHJzc/nqq6/o06eP+ea/cLsmTZrw+eefl88JV6KCAoN3VkWSk1eAkxM8NToMT5X+iIiIiDgUm0oAkpOTiYuLs7j5LxQSEkJCQgIJCQnFtt2zZw/e3t506NABgJycHHJycggMDGTKlCmEhYUBpm/6q1WrxrFjxyzax8XFAVCrlmkmnNjYWLKzs2nbtm2xsURFRVFQUFD6k7WC/x5K4vCJiwAM6dmUkKZXL6cSEREREftkUwnA2bNnAQgKCiqyrnZt09tpT58+XWzbY8eOUbt2bQ4fPswDDzxAu3btCA0N5dFHHzXvF8DV1ZW///3v7N69m7lz5xIXF8cPP/zAa6+9RpMmTejXr59FLIXHvTKW7OxsEhMTy3bClSghKYete03x1qvpw9iBrawckYiIiIhYg03VfxTOwuPl5VVknaenJwAZGRnFtk1JSSE9PZ3x48czaNAgHnzwQWJiYpg3bx7jxo1j/fr1+Pj4ANCrVy/69u3LO++8wzvvvAOYvvmfP3++eZtrxVI4+DczM7Msp2sWHR1tHnhcEQzDYPX3Z8jLN3AC7ukawNHYIxV2vKogOzsbgEOHDlk5EutTX1hSf1hSf1yivrCk/rCk/riksvrCMIwK3b89s6kEoLCk5lo3w87OxT+0yMnJ4dy5c0yaNIlnnnkGgH79+lG/fn1mzJjBmjVrmDBhAhkZGYSHh3Ps2DHCw8O55ZZbiI+P58MPPyQ8PJylS5fSuHHjEsVSkTft5Sk1M58/LuQA0KNNAI2DiiY1IiIiIuIYbCoBKPz2vbhv1rOysiy2uVLhN/UjR460WD5kyBCef/55du/ezYQJE9i4cSNHjx5l6tSpPPLII+btbr/9du655x7+9a9/MW/evGvGUpjZXi2WG9WqVSvzFKUVZcBvqWRm5/NkeA/c3Sr2WFVB4bcSISF6AZr6wpL6w5L64xL1hSX1hyX1xyWV1Rf5+fns27evQo9hr2wqAahfvz4A586dK7KucPBvceMDCpfHxMQQGBhosdzV1RV/f39zSU9MTAwAQ4cOtdiucePGdO7cmd27d2MYxnVj8fLywt/f/wbOzrpub1cdQDf/IiIiIg7OpgYB+/n50ahRo2Jrxg4dOkSdOnXMs/RcqXDmoKNHj1osT09PJzExkbp16wKX6veLm8GnoKCAvLw8AJo2bYqXl9dVY2nduvVVy5FERERERGyVzd3BDhgwgD179hAVFWVeFhMTw65duxg8ePBV2w0ePBhnZ2fmzZtnMShk0aJFGIZhnt2ne/fuACxfvtyi/dGjR/nll1/o2rUrTk5OuLu7c8cdd7B161bOnDlj3m7Hjh0cP378mrGIiIiIiNgqmyoBAoiIiGDDhg1ERETw0EMP4ezszMKFCwkKCiIiIgIwzQS0bds2atasab6hb968ORMnTmTevHk8/PDD3HnnnURFRbFmzRrzrD9geqvwgAED+Oijjzh58iQ9evTg9OnTLF++HFdXV4s3DT/55JN89913hIeHM378eFJTU/n4448JCQnh3nvvrfzOEREREREpI5tLAAICAlixYgWzZs1i7ty5uLu706VLF6ZNm2au709MTGTatGl06dLFnAAATJ06lYYNG7JkyRJeeeUVatSowaRJk3j88cctjvGf//yHkJAQ1q9fz/bt2/Hx8aFbt2489dRTNGvWzLxdkyZNWLp0Ka+99hpvvvkmvr6+9O/fn2effdY8LamIiIiISFVicwkAQMOGDZk7d+5V1zdo0IAjR4qfx37EiBGMGDHimvt3cXFh0qRJTJo06bqxhISEsHjx4utuJyIiIiJSFdjcGAAREREREak4SgBERERERByIEgAREREREQeiBEBERERExIEoARARERERcSBKAEREREREHIgSABERERERB6IEQERERETEgSgBEBERERFxIEoAREREREQciBIAEREREREH4mrtAByVYRjmv+fn51fa8SrjWFWB+uMS9YUl9Ycl9ccl6gtL6g9L6o9LKqsvLt//5fdVcn1OhnrMKnJycjhw4IC1wxARERGp8tq2bYu7u7u1w6gyVAIkIiIiIuJA9ATASgoKCsjLywPA2dkZJycnK0ckIiIiUnUYhkFBQQEArq6uODvre+2SUgIgIiIiIuJAlCqJiIiIiDgQJQAiIiIiIg5ECYCIiIiIiANRAiAiIiIi4kCUAIiIiIiIOBAlACIiIiIiDkQJgIiIiIiIA1ECICIiIiLiQJQAiIiIiIg4ECUAIiIiIiIORAmAiIiIiIgDUQIgIiIiIuJAlABUMfHx8UyZMoVu3brRsWNHJk+ezIkTJ67bLj8/n48++oh+/frRrl07hgwZwueff17stt988w333nsvoaGh3H777bzzzjvk5uaW96mUi9L2R1paGv/617+4/fbbadOmDT179uSf//wnqampFtsdO3aMli1bFvtn0aJFFXRWpVPavli9evVVzzE6OtpiW3v/bIwdO/aqfdGyZUvGjh1r3rYqfTYuN2/ePLp3717i7e312gE33hf2eN243I32h71eOwrdSH/Y67Xj119/ZeLEiXTq1Im2bdsydOhQNmzYcN129nzdsBeu1g5ASi4pKYlx48aRlpbGuHHj8PDwYMGCBYSHh7Nx40Zq1Khx1bavvvoqixcvZtiwYYSGhvLll1/y17/+lYKCAu655x7zdtu2beOJJ56gU6dOPPvssxw5coT333+fhIQEXnnllco4zRIrbX8YhsFjjz3GL7/8wogRI2jdujWHDx9m1apV7N+/n5UrV+Lu7g5AbGwsAFOnTqVOnToW+2nTpk3FnuANKMtnIzY2Fm9vb1588cUi6+rVq2f+uyN8NiZPnszw4cOLLN+0aRM7duygT58+5mVV5bNxuW+//ZZ3332XgICAErexx2sH3Hhf2ON143Kl+WzY47Wj0I32hz1eO44ePcrYsWPx9/fn4YcfxsfHhy1btjB9+nQuXrzIhAkTrtrWXq8bdsWQKuOtt94yWrZsaRw4cMC87MiRI0arVq2Mf//731dtd+zYMePmm282Zs6caV6Wl5dnjBo1yujevbuRk5NjXta7d2/j3nvvNS8zDMN4/fXXjZYtWxpHjhypgLMqvdL2x5YtW4zg4GBjyZIlFstXrFhhBAcHG2vXrjUvmz17thEcHGykpqaW/wmUo9L2hWEYxtixY41hw4ZdcxtH+WwU5/fffzfat29vPPLIIxbLq8pnwzAMo6CgwFiyZInRunVrIzg42Lj11ltL1M4erx2l7Qt7vG4YRun7wzDs89pRlv64UlW/dkycONEIDQ01zpw5Y16Wn59vjBo1ymjfvv1V47fH64Y9UglQFbJp0yZCQ0MtviEIDg6mW7dubNq06artNm/eTEFBAWPGjDEvc3FxITw8nHPnzvHzzz8DEBkZyR9//MGoUaNwc3Mzbzt27FgMw2Dz5s0VcFalV9r+2LVrFwD33nuvxfLBgwcDsHfvXvOy2NhY6tSpg6+vb3mGXu5K2xdgOsdmzZpdcxtH+WwU56WXXgLghRdesFheVT4bACNHjuTll1/m1ltvJSQkpMTt7PHaUdq+sMfrBpS+P8A+rx1l6Y8rVeVrR35+Pr/88gs9e/YkKCjIvNzZ2ZmBAweSmZnJ4cOHi21rj9cNe6QEoIpITk4mLi6u2MeDISEhJCQkkJCQUGzbgwcP4uvrS5MmTYq0K1x/+X+vPEZQUBC1atUyr7cFZemPKVOmsGHDBnx8fCyWJyYmAuDqeqkyLjY2lubNmwOQm5tLTk5OeZ1CuSlLXyQmJpKYmGg+x6ysLPLz84ts5yifjSvt2LGDnTt38vDDD1O3bl2LdVXhs1Ho9OnTvPzyy3z44YdFPvfXYo/XjtL2hb1dNwqVtj/s8doBpe+PK1X1a4ezszOfffYZ06ZNK7Ku8DPv4uJSbFt7vG7YI40BqCLOnj0LYJGJF6pduzZgunAV/v3KttdqFx8fX6JjFG5nC8rSHwEBAcXWdS5ZsgSAzp07A5CTk8OJEycICAhgzJgxREZGkp+fT4cOHfj73/9e5m+HyktZ+uLIkSMAHD58mAEDBnD8+HHc3Nzo168ff//73wkMDCzRMezls3GluXPnUq1atSK1rlXls1Fo+/bt5vr0G2GP147S9oW9XTcKlbY/7PHaAaXvjytV9WuHk5MTDRs2LLI8IyODTz75BB8fH1q3bl1sW3u8btgjPQGoItLT0wHw8vIqss7T0xMw/cO8WtvCbYprl5mZaXGM4rb18PAwb2cLytIfxfnuu+9YsWIFN910EwMGDADg999/Jy8vj6ioKLp27crs2bP561//ytGjRxkzZoz5F6C1laUvCgej7d+/n7FjxzJnzhweeOABvvjiC8aMGWNu54ifjaioKCIjIxk5cmSRbwKrymejUGlvaOzx2lEeN3eFqvJ1o1Bp+8Merx1QPp8Pe7p2XM4wDJ5//nnOnTtHREQEHh4exW5nj9cNe6QnAFVEQUEBYMrKr8bZufh8zjCMYtsVLitsd71jXG3/1lCW/rjSzp07efrpp/Hy8uKtt94y1yJWq1aNJ598kq5du9KpUycA7rjjDnr06MF9993HW2+9xQcffFDGMym7svRFmzZtmDx5MuHh4eZvZ/r27UujRo345z//yapVq3jooYcc8rOxevVqnJycLOpYC1WVz0ZZ2eO1o7xU9etGWdnjtaO82OO1wzAMXnzxRTZv3kzXrl155JFHrrmtrhu2T71bRRR+i1BcRpyVlWWxTXFtC7e5XOG+CtsV/re4bbOzs8tUD1neytIfl9u6dSuTJk0CTI9sW7VqZV5Xr149/vKXv5gv0oVuvvlmOnToYB4UaG1l6YsOHTowZcqUIuUwI0eOxNXV1XyOjvjZ2L59O6GhoUXqd6HqfDbKyh6vHeXBHq4bZWWP147yYm/XjtzcXP7617+yatUq2rdvz9y5cy3GvFxJ142qQQlAFVG/fn0Azp07V2Rd4YDG4urowHTBKUm7wnmbixsgmZCQUKKa6cpSlv4otHbtWp5++mnc3d35+OOP6datW4mPHxgYSFZWlvkbDGsqj764kpubG9WqVTM/xne0z0Z0dDQJCQn069fvho9vS5+NsrLHa0dZ2ct1o6JU5WtHebC3a0dWVhaPPfYYmzZtokuXLixcuPC6sxfpulE1KAGoIvz8/GjUqBGHDh0qsu7QoUPUqVOHWrVqFds2JCTEPDPKle0A2rZta97u8uWFzp49y7lz58zb2YKy9AfAxo0b+b//+z/8/f1ZunQpHTt2LLLNypUr6dOnT5E3WoKpjrNevXo28YiyLH3xt7/9jbvuuqvI7B0XL14kMTHRPAjMkT4bAHv27AHglltuKXZ9VflslJU9XjvKwp6uG2Vlj9eO8mBP1468vDyeeOIJduzYQe/evZk/f36JvpXXdaNqsI1PmZTIgAED2LNnD1FRUeZlMTEx7Nq1yzwXdXH69++Pk5MTS5cuNS/Lz89n+fLlBAUFmR9FdujQgaCgIFasWEFeXp5526VLl+Lk5HTNY1hDafsjNjaW559/Hn9/f5YtW3bVmQwaNWrEqVOnWLZsmcXyL7/8kpiYGIYMGVI+J1IOStsXtWrV4ujRo0Xmxp8zZw6A+Rwd5bNRKCoqCnd3d/NUfVeqSp+NsrDXa0dp2ON1oyzs9dpRVvZ07Zg9ezY7duzgjjvuYPbs2Vcd9HslXTeqBg0CrkIiIiLYsGEDERERPPTQQzg7O7Nw4UKCgoKIiIgATLObbNu2jZo1a9K9e3cAmjVrxqhRo1i8eDHp6em0b9+eLVu2EBkZyX/+8x/z4DVnZ2emT5/O1KlTmTBhAkOGDOHgwYOsWbOG0aNHX/WCZi2l7Y+3336bnJwc+vfvz8GDB4vMNVy/fn06depE9+7d6d+/P+vWrSM1NZVbbrmF2NhYVq9ezc0333zNQVCVrbR9MXHiRDZv3szzzz9PVFQUjRo14r///S/bt29nxIgR3HrrrYDjfDYKnThxgtq1a1u8nOZyVemzUVKOdO24Hke5bpSUI107SsIRrh0XLlxgwYIFuLq60qNHD7Zs2VJkm1tuuQVfX19dN6oqa72CWErn5MmTxqOPPmqEhoYaXbp0MR5//HHj5MmT5vVxcXFGcHCwMWbMGIt2ubm5xrvvvmv06tXLaNeunXHPPfcYX375ZbHH2Lx5szF48GCjTZs2Rp8+fYz33nvPyM3NrdDzKq3S9EfHjh2N4ODgq/55+umnzdtmZ2cbb731ltG7d2+jdevWRs+ePY2XX37ZSE5OrtTzLInSfjbOnDljTJs2zejatasREhJiDBw40Fi0aJGRn59f5Bj2/tkoNHDgQOOee+655v6r0mfjcmPGjDFuvfXWIssd7dphGDfWF/Z63bjcjX427PXaUehG+8Mw7OfasW3btmt+3oODg43vv//eIa8b9sLJMAzD2kmIiIiIiIhUDo0BEBERERFxIEoAREREREQciBIAEREREREHogRARERERMSBKAEQEREREXEgSgBERERERByIEgAREREREQeiBEBERERExIEoARARERERcSBKAEREREREHIgSABERG/PNN9/wyCOPcMstt9CmTRt69OjBo48+yjfffGPt0CrE+vXradmyJYsWLbJ2KCIiDsHJMAzD2kGIiIjJzJkzWbZsGfXr1+fWW2+levXqnD17lu+//56kpCRGjhzJzJkzrR1muYqOjubrr7+mZ8+ehIaGWjscERG7pwRARMRG7N69m3HjxtG/f3/+85//4Orqal6XmprKuHHjiIqK4r333qNv375WjFRERKoylQCJiNiI7777DoDw8HCLm38APz8/nnnmGQC2bdtW2aGJiIgdUQIgImIjcnNzAYiJiSl2fadOnXj77bd58MEHzcvy8/NZuHAhd999N6GhofTq1Ytnn32WuLg4i7aGYbBy5UqGDRtGu3bt6Ny5M5MnTyYqKspiu927d9OyZUvWr1/PunXrGDJkCG3btuW2227j1VdfJTMzs0jMixcvZuTIkXTs2JE2bdrQu3dv/vGPf5CYmGje7tSpU7Rs2ZJ33nmHl19+mdDQULp27coXX3xx1TEAv/76K4899hhdu3albdu23HXXXXzwwQfk5OTcaNeKiMhllACIiNiI7t27A/Dqq68yc+ZMIiMjyc/PN6/39PRk4MCBtGrVCjDd1D/yyCP8+9//Jj8/n+HDh9OpUye2bNnCAw88wNmzZ81tp0+fzosvvkhubi6jR49mwIAB/O9//2P06NHs3LmzSCzLli3jxRdfpEWLFowdOxYPDw8WLFjAyy+/bLHdM888w7/+9S9cXV0ZOXIko0aNwt3dndWrVzNx4sQi+12zZg1ffPEF999/P6GhoVet+f/666+5//77+eGHH7j11lsZPXo0Li4uvPXWW0yYMEFJgIhIWRgiImIzXnjhBSM4ONj8p0OHDsbEiRONhQsXGqdPn7bYdu3atUZwcLDx5JNPGtnZ2ebln3/+uREcHGzMnDnTMAzD2LJlixEcHGxMnTrVyM3NNW938uRJo0uXLkbPnj3N7Xft2mUEBwcbrVq1Mvbu3WveNiUlxejWrZvRtm1bIz093TAMw4iMjDSCg4ONZ555xiKu3NxcY/DgwUZwcLDx+++/G4ZhGHFxcUZwcLDRsmVLIzo62mL7Tz75xAgODjYWLlxoGIZhpKamGp07dzY6dOhgHDx40GK/zzzzjBEcHGzMmTOnVP0rIiKGoScAIiI25MUXX2TevHn07NkTNzc30tLS+P7775k1axZ9+/blzTffpKCgAIDNmzcD8Le//Q13d3fzPgYNGsTkyZPp0KEDAOvWrQPg73//u8XYgoYNGzJ69GjOnj3LTz/9ZBFH586dCQsLM//s5+dHWFgY2dnZnD59GoA6derw73//m6eeesqiraurKx07dgTgwoULFusaN27MzTfffM0++Prrr0lOTmbcuHGEhIRY7Pdvf/sbnp6efPLJJ9fch4iIXJ3r9TcREZH/b+/uQpre4ziOv1eIY/trkWXPPpTkhRcRCBIY7mLahaVNCoJA6FKQQKW6yglRV4YgimR01yQoxFKZD6ioYSEVrBhTLxS7CLMEczND/rRzIe4cH86xyeHgYZ/X3f///+673+722e9h/yWHw4HD4WBxcZG3b9/y+vVr+vv7mZ6eprm5mV+/fnHz5k3GxsY4cuQIBw8eXPN6i8VCRUVF5Nrv9xMfH4/H49nwXlNTU8DKUZwOhyNyPy0tbUNtQkIC8OdehUOHDuFyuTBNE7/fz9TUFJ8+fSIQCEQCxWpYWXXs2LEtP//Y2BiwEkLW27dvH+np6QQCAYLBYGRMIiLy+xQARER2KLvdTl5eHnl5edy+fZvnz59z584dnjx5Qnl5OQsLC+zfv3/LPsFgENM0aWho+Nua79+/r7n+64zCKovFAqzsPVj19OlTGhsbmZ2dBSAxMZHTp09z8uRJfD7fmlqA+Pj4LccbCoUAMAxj0+fJyckEAgGWlpYUAEREtkEBQERkBwiFQpSUlJCens7Dhw83PLdYLFy5coWuri5evXrFzMwMNpuNxcXFTfv9+PEDm80GgM1mw263R44Z/bd4vV7cbjeZmZm43W6ysrI4fPgwAG63G5/Pt62+drsdIBIq1ltYWABg79692+ovIhLrtAdARGQHMAyDYDDIyMgI3759+8faXbt2ceDAAU6dOsXnz5/5+vXrhppLly5x/vx5ADIzM5mZmdm0bmBggLq6usiym2h0dHQA8ODBA5xOZ+TLP8Dk5CTAhhmA37F6ytG7d+82PAuFQgQCAVJTUzedpRARka0pAIiI7BDXrl1jeXmZGzdubPrrd19fHyMjI+Tn52MYBkVFRYTDYWpra9ccF+r1epmenubs2bMAuFwuwuEwd+/eXXN85uzsLDU1NTQ3N0dmC6KxupxnfWBpa2tjdHQUANM0o+7rdDpJSEigpaUFv98fuW+aJvfu3ePnz58UFxdH3VdERFZoCZCIyA5RVlbGxMQE3d3dFBQUkJubS1paGqZp4vP5eP/+PSdOnKCmpgaAy5cv09PTQ1tbG+Pj4+Tk5PDlyxd6eno4evRoZCNwSUkJ/f39dHd3Mz4+zrlz5zBNE6/Xy/z8PFVVVaSkpEQ93qKiIjo7OykvL6ewsBDDMPj48SOjo6MkJSUxNzfH/Px81H0Nw+D+/ftUVFRw9epV8vPzSUpK4s2bN0xMTJCdnb3pfwyIiMjvUQAQEdkhdu/eTX19Pb29vbx8+ZIPHz4wNDREXFwcqampVFVVUVpaitVqjdQ3NTXx+PFjXrx4gcfjwTAMLl68SGVlJXv27AFW9g/U19fj8XhobW3l2bNnWK1WMjIyuH79Ok6nc1vjdTgc1NXV8ejRI9rb27FarRw/fpzq6mrOnDmDy+VicHCQCxcuRN27oKCAlpYWmpqaGB4eZnl5mZSUFG7dukVpaSlxcXHbGrOIiIAlvJ0FmiIiIiIi8r+kPQAiIiIiIjFEAUBEREREJIYoAIiIiIiIxBAFABERERGRGKIAICIiIiISQxQARERERERiiAKAiIiIiEgM+QPTA/V0rQ04awAAAABJRU5ErkJggg==\"/>"
      ],
      "text/plain": [
       "<IPython.core.display.HTML object>"
      ]
     },
     "metadata": {},
     "output_type": "display_data"
    },
    {
     "data": {
      "image/png": "[encoded data removed]",
      "text/plain": [
       "<Figure size 768x576 with 1 Axes>"
      ]
     },
     "metadata": {},
     "output_type": "display_data"
    }
   ],
   "source": [
    "import requests\n",
    "from IPython.display import display, HTML\n",
    "import time\n",
    "\n",
    "# Wait for Flask server to start\n",
    "print(\"Waiting for Flask server to start...\")\n",
    "time.sleep(5)\n",
    "\n",
    "# Define port_changed based on app.py port (set to True since port is 5001)\n",
    "port_changed = True  # Updated to match app.py port 5001\n",
    "\n",
    "# POST /predict\n",
    "try:\n",
    "    response = requests.post(\n",
    "        'http://127.0.0.1:5001/predict' if port_changed else 'http://127.0.0.1:5000/predict',\n",
    "        json={'features': [65.0, 0.033420, 0.666667, 0.0, 0.0, 0.0, 0.0, 0.0, 0.0, 0.0, 0.0, 0.0, 0.0, 0.0, 0.0, 0.0, 0.0, 0.0, 0.0, 0.0, 0.0, 0.0, 0.0, 0.0, 0.0, 0.0, 0.0, 0.0]}\n",
    "    )\n",
    "    print(\"POST /predict:\", response.json())\n",
    "except requests.exceptions.RequestException as e:\n",
    "    print(\"POST /predict failed:\", str(e))\n",
    "\n",
    "# GET /predict/<input1>\n",
    "try:\n",
    "    response2 = requests.get('http://127.0.0.1:5001/predict/65.0' if port_changed else 'http://127.0.0.1:5000/predict/65.0')\n",
    "    print(\"GET /predict/<input1>:\", response2.json())\n",
    "except requests.exceptions.RequestException as e:\n",
    "    print(\"GET /predict/<input1> failed:\", str(e))\n",
    "\n",
    "# GET /predict/<input1>/<input2>\n",
    "try:\n",
    "    response3 = requests.get('http://127.0.0.1:5001/predict/65.0/0.033420' if port_changed else 'http://127.0.0.1:5000/predict/65.0/0.033420')\n",
    "    print(\"GET /predict/<input1>/<input2>:\", response3.json())\n",
    "except requests.exceptions.RequestException as e:\n",
    "    print(\"GET /predict/<input1>/<input2> failed:\", str(e))\n",
    "\n",
    "# GET /plot\n",
    "try:\n",
    "    response_plot = requests.get('http://127.0.0.1:5001/plot' if port_changed else 'http://127.0.0.1:5000/plot')\n",
    "    display(HTML(response_plot.text))\n",
    "except requests.exceptions.RequestException as e:\n",
    "    print(\"GET /plot failed:\", str(e))"
   ]
  },
  {
   "cell_type": "code",
   "execution_count": null,
   "id": "02e5539c",
   "metadata": {},
   "outputs": [],
   "source": [
    "## 9. Handoff Best Practices\n",
    "\n",
    "- Ensure README.md is complete and clear\n",
    "- Provide `requirements.txt` for reproducibility\n",
    "- Ensure pickled model and scripts are in correct folders\n",
    "- Verify another user can run the project end-to-end on a fresh environment"
   ]
  }
 ],
 "metadata": {
  "kernelspec": {
   "display_name": "Python 3 (ipykernel)",
   "language": "python",
   "name": "python3"
  },
  "language_info": {
   "codemirror_mode": {
    "name": "ipython",
    "version": 3
   },
   "file_extension": ".py",
   "mimetype": "text/x-python",
   "name": "python",
   "nbconvert_exporter": "python",
   "pygments_lexer": "ipython3",
   "version": "3.11.5"
  }
 },
 "nbformat": 4,
 "nbformat_minor": 5
}
