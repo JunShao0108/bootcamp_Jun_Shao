{
 "cells": [
  {
   "cell_type": "markdown",
   "id": "f20d3264",
   "metadata": {},
   "source": [
    "# Stage 16 Lifecycle Review\n",
    "\n",
    "This notebook assists in finalizing your project repo and mapping its lifecycle stages."
   ]
  },
  {
   "cell_type": "code",
   "execution_count": null,
   "id": "d83583a0",
   "metadata": {},
   "outputs": [],
   "source": [
    "checklist = {\n",
    "    \"repo_clean\": True,\n",
    "    \"repo_complete\": True,\n",
    "    \"readme_complete\": True,\n",
    "    \"lifecycle_map\": True,\n",
    "    \"summary_doc\": True,\n",
    "    \"framework_guide_table\": True\n",
    "}\n",
    "checklist"
   ]
  },
  {
   "cell_type": "markdown",
   "id": "b805d575",
   "metadata": {},
   "source": [
    "## Reflection Prompts\n",
    "- Which lifecycle stage posed the greatest challenge, and why?\n",
    "- What part of your repo offers the most reuse potential?\n",
    "- What would most benefit a teammate inheriting your repo?"
   ]
  },
  {
   "cell_type": "markdown",
   "id": "087569d4",
   "metadata": {},
   "source": [
    "- **Greatest Challenge**: The Deployment stage (Stage 13) was the toughest, as setting up the Flask API involved resolving port issues and ensuring model compatibility, which was difficult due to my limited server experience.\n",
    "- **Most Reusable Part**: The `notebooks/utils.py` module is highly reusable, with functions like `train_model` and `fill_missing_values` that can be applied to other regression projects with slight modifications.\n",
    "- **Best Support for Teammate**: A detailed `README.md` with setup guide, `requirements.txt` for dependencies, and a `summary.md` with key results would be most helpful. A `faq.md` in `docs/` could address common issues."
   ]
  },
  {
   "cell_type": "markdown",
   "id": "c05b9e74",
   "metadata": {},
   "source": [
    "# Lifecycle Framework Guide - Housing Price Prediction Project\n",
    "\n",
    "## Stage Mapping\n",
    "| Stage            | Description                                      | Artifacts/Outputs                     | Tools/Techniques                     |\n",
    "|-------------------|--------------------------------------------------|---------------------------------------|--------------------------------------|\n",
    "| Problem Definition | Set objective: predict Ames housing prices       | `README.md`, initial plan             | Stakeholder meetings                 |\n",
    "| Data Collection   | Download Kaggle dataset                          | `/data/raw/train.csv`, `test.csv`     | Data retrieval, CSV handling         |\n",
    "| Data Cleaning     | Process missing values, encode features          | `/data/processed/updated_encoded_train.csv` | Pandas, custom scripts              |\n",
    "| Exploratory Analysis | Investigate feature relationships             | `/notebooks/exploratory_analysis.ipynb` | Matplotlib, Seaborn                  |\n",
    "| Feature Engineering | Add `LotArea_squared`, normalize data           | `/data/processed/updated_encoded_train.csv` | Scikit-learn preprocessing           |\n",
    "| Modeling          | Train linear regression model                    | `/model/linear_model.pkl`             | Scikit-learn (LinearRegression)      |\n",
    "| Evaluation        | Measure R² (0.68), RMSE (0.067)                  | `/reports/evaluation_metrics.json`    | Scikit-learn metrics                 |\n",
    "| Deployment        | Deploy Flask API                                 | `app.py`, `/deliverables/testing_evidence.png` | Flask, joblib                       |\n",
    "| Monitoring        | Plan for latency, data quality tracking          | `reflection.md`, monitoring strategy  | Manual logs, future tools            |\n",
    "| Iteration         | Schedule retraining based on performance         | Updated `model/linear_model.pkl`      | Automated scripts, manual review     |"
   ]
  },
  {
   "cell_type": "markdown",
   "id": "f85a38a1",
   "metadata": {},
   "source": []
  }
 ],
 "metadata": {
  "language_info": {
   "name": "python"
  }
 },
 "nbformat": 4,
 "nbformat_minor": 5
}
