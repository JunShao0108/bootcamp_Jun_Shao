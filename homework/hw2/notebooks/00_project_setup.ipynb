{
 "cells": [
  {
   "cell_type": "code",
   "execution_count": 2,
   "id": "8b06de2f-abc0-4108-a151-e8c3cace737b",
   "metadata": {},
   "outputs": [],
   "source": [
    "# Environment & Config Check"
   ]
  },
  {
   "cell_type": "code",
   "execution_count": 3,
   "id": "ccfd13d5-afba-4fd0-848c-979038ed911f",
   "metadata": {},
   "outputs": [
    {
     "name": "stdout",
     "output_type": "stream",
     "text": [
      "API_KEY exists: True\n",
      "API_KEY value: dummy_key_123\n",
      "NumPy array mean: 3.0\n"
     ]
    }
   ],
   "source": [
    "from dotenv import load_dotenv\n",
    "import os\n",
    "import numpy as np\n",
    "\n",
    "# Load environment variables\n",
    "load_dotenv()\n",
    "\n",
    "# Check if API_KEY exists\n",
    "api_key = os.getenv('API_KEY')\n",
    "print(f'API_KEY exists: {api_key is not None}')\n",
    "print(f'API_KEY value: {api_key}')\n",
    "\n",
    "# Run a small numpy array operation\n",
    "arr = np.array([1, 2, 3, 4, 5])\n",
    "print(f'NumPy array mean: {np.mean(arr)}')"
   ]
  },
  {
   "cell_type": "code",
   "execution_count": null,
   "id": "2550e6b2-a14f-4284-9177-81eec58ea8a2",
   "metadata": {},
   "outputs": [],
   "source": []
  }
 ],
 "metadata": {
  "kernelspec": {
   "display_name": "Python 3 (ipykernel)",
   "language": "python",
   "name": "python3"
  },
  "language_info": {
   "codemirror_mode": {
    "name": "ipython",
    "version": 3
   },
   "file_extension": ".py",
   "mimetype": "text/x-python",
   "name": "python",
   "nbconvert_exporter": "python",
   "pygments_lexer": "ipython3",
   "version": "3.11.13"
  }
 },
 "nbformat": 4,
 "nbformat_minor": 5
}
